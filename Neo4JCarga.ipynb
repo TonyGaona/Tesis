{
 "cells": [
  {
   "cell_type": "code",
   "id": "bdb45015-2ad0-496c-88d4-2400d128d713",
   "metadata": {
    "ExecuteTime": {
     "end_time": "2025-02-26T15:34:32.329611Z",
     "start_time": "2025-02-26T15:34:32.243575Z"
    }
   },
   "source": [
    "import py2neo"
   ],
   "outputs": [],
   "execution_count": 1
  },
  {
   "cell_type": "code",
   "id": "35a464d1-d3a7-49f0-9b67-8ec787e03406",
   "metadata": {
    "ExecuteTime": {
     "end_time": "2025-02-26T15:34:44.366390Z",
     "start_time": "2025-02-26T15:34:44.290036Z"
    }
   },
   "source": [
    "# Database created in Neo4J Desktop, base :\n",
    "graph = py2neo.Graph(\"bolt://localhost:7687\",user = \"neo4j\" ,password=\"123456789\", name = \"tesis\") "
   ],
   "outputs": [],
   "execution_count": 2
  },
  {
   "cell_type": "markdown",
   "id": "42653a04-a769-41e2-a3c0-ffee4fbc0d8d",
   "metadata": {},
   "source": [
    "### Insertar nodos y sus datos"
   ]
  },
  {
   "cell_type": "code",
   "execution_count": 6,
   "id": "75cb0867-afa8-47b2-b362-607bdd1bb5af",
   "metadata": {},
   "outputs": [
    {
     "name": "stdout",
     "output_type": "stream",
     "text": [
      " count(m) \n",
      "----------\n",
      "    12786 \n",
      "\n",
      " count(m) \n",
      "----------\n",
      "   210140 \n",
      "\n",
      " count(m) \n",
      "----------\n",
      "    28905 \n",
      "\n",
      " count(m) \n",
      "----------\n",
      "     1402 \n",
      "\n",
      " count(m) \n",
      "----------\n",
      "      123 \n",
      "\n",
      " count(m) \n",
      "----------\n",
      "    32128 \n",
      "\n",
      " count(m) \n",
      "----------\n",
      "      614 \n",
      "\n",
      " count(m) \n",
      "----------\n",
      "      155 \n",
      "\n",
      " count(m) \n",
      "----------\n",
      "     4069 \n",
      "\n",
      " count(m) \n",
      "----------\n",
      "      318 \n",
      "\n",
      " count(m) \n",
      "----------\n",
      "        8 \n",
      "\n"
     ]
    }
   ],
   "source": [
    "# Paper\n",
    "query = '''\n",
    "LOAD CSV WITH HEADERS FROM 'file:/papers/Nodos/papers.csv' AS line\n",
    "CREATE (m:Paper {identifier: line.identifier, doi: line.doi, title: line.title, publicationType: line.publicationType,\n",
    "citation: line.citation,url: line.url,description: line.description})\n",
    "RETURN count(m)\n",
    "'''\n",
    "result = graph.run(query)\n",
    "print(result) # 8255\n",
    "\n",
    "#Paper de trabajos relacionados\n",
    "query = '''\n",
    "LOAD CSV WITH HEADERS FROM 'file:/papers/Nodos/papers2.csv' AS line\n",
    "CREATE (m:Paper {identifier: line.identifier, doi: line.doi, title: line.title}) RETURN count(m)\n",
    "'''\n",
    "result = graph.run(query)\n",
    "print(result) # 49832\n",
    "\n",
    "#autores\n",
    "query = '''\n",
    "LOAD CSV WITH HEADERS FROM 'file:/papers/Nodos/autores.csv' AS line\n",
    "CREATE (m:Author {identifier: line.identifier, name: line.name}) RETURN count(m)\n",
    "'''\n",
    "result = graph.run(query)\n",
    "print(result) # 20596\n",
    "\n",
    "#ciudad\n",
    "query = '''\n",
    "LOAD CSV WITH HEADERS FROM 'file:/papers/Nodos/city.csv' AS line\n",
    "CREATE (m:City {identifier: line.identifier, name: line.name}) RETURN count(m)\n",
    "'''\n",
    "result = graph.run(query)\n",
    "print(result) # 1190\n",
    "\n",
    "#Pais\n",
    "query = '''\n",
    "LOAD CSV WITH HEADERS FROM 'file:/papers/Nodos/country.csv' AS line\n",
    "CREATE (m:Country {identifier: line.identifier, name: line.name}) RETURN count(m)\n",
    "'''\n",
    "result = graph.run(query)\n",
    "print(result) # 118\n",
    "\n",
    "#key\n",
    "query = '''\n",
    "LOAD CSV WITH HEADERS FROM 'file:/papers/Nodos/key.csv' AS line\n",
    "CREATE (m:Key {identifier: line.identifier, name: line.name,contentType: line.contentType}) RETURN count(m)\n",
    "'''\n",
    "result = graph.run(query)\n",
    "print(result) # 22421\n",
    "\n",
    "#Journal\n",
    "query = '''\n",
    "LOAD CSV WITH HEADERS FROM 'file:/papers/Nodos/Journal.csv' AS line\n",
    "CREATE (m:Journal {identifier: line.identifier, issn: line.issn,rank: line.rank,title: line.title,sjr: line.sjr\n",
    ",hIndex: line.hIndex,coverage: line.coverage,bestQuartile: line.bestQuartile}) RETURN count(m)\n",
    "'''\n",
    "result = graph.run(query)\n",
    "print(result) # 449\n",
    "\n",
    "#Concept\n",
    "query = '''\n",
    "LOAD CSV WITH HEADERS FROM 'file:/papers/Nodos/Concept.csv' AS line\n",
    "CREATE (m:Concept {identifier: line.identifier, name: line.name}) RETURN count(m)\n",
    "'''\n",
    "result = graph.run(query)\n",
    "print(result) # 146\n",
    "\n",
    "#affiliation\n",
    "query = '''\n",
    "LOAD CSV WITH HEADERS FROM 'file:/papers/Nodos/affiliation.csv' AS line\n",
    "CREATE (m:Affiliation {identifier: line.identifier, name: line.name}) RETURN count(m)\n",
    "'''\n",
    "result = graph.run(query)\n",
    "print(result) # 3165\n",
    "\n",
    "#publisher\n",
    "query = '''\n",
    "LOAD CSV WITH HEADERS FROM 'file:/papers/Nodos/publisher.csv' AS line\n",
    "CREATE (m:Publisher {identifier: line.identifier, name: line.name}) RETURN count(m)\n",
    "'''\n",
    "result = graph.run(query)\n",
    "print(result) # 233\n",
    "\n",
    "#region\n",
    "query = '''\n",
    "LOAD CSV WITH HEADERS FROM 'file:/papers/Nodos/region.csv' AS line\n",
    "CREATE (m:Region {identifier: line.identifier, name: line.name}) RETURN count(m)\n",
    "'''\n",
    "result = graph.run(query)\n",
    "print(result) # 8\n",
    "\n"
   ]
  },
  {
   "cell_type": "code",
   "execution_count": 7,
   "id": "14542136-e569-4b36-a76c-a3f0a94234b1",
   "metadata": {
    "scrolled": true
   },
   "outputs": [
    {
     "name": "stdout",
     "output_type": "stream",
     "text": [
      " count(m) \n",
      "----------\n",
      "     3572 \n",
      "\n",
      " count(m) \n",
      "----------\n",
      "    18830 \n",
      "\n",
      " count(m) \n",
      "----------\n",
      "      349 \n",
      "\n",
      " count(m) \n",
      "----------\n",
      "      203 \n",
      "\n",
      " count(m) \n",
      "----------\n",
      "       19 \n",
      "\n",
      " count(m) \n",
      "----------\n",
      "       70 \n",
      "\n",
      " count(m) \n",
      "----------\n",
      "      159 \n",
      "\n",
      " count(m) \n",
      "----------\n",
      "      907 \n",
      "\n",
      " count(m) \n",
      "----------\n",
      "      186 \n",
      "\n",
      " count(m) \n",
      "----------\n",
      "      249 \n",
      "\n",
      " count(m) \n",
      "----------\n",
      "      409 \n",
      "\n",
      " count(m) \n",
      "----------\n",
      "      239 \n",
      "\n"
     ]
    }
   ],
   "source": [
    "#chunk\n",
    "query = '''\n",
    "LOAD CSV WITH HEADERS FROM 'file:/papers/Nodos/chunk.csv' AS line\n",
    "CREATE (m:Chunk {identifier: line.identifier, content: line.content,\n",
    "vector: line.vector, word_count: line.word_count, next: line.next}) RETURN count(m)\n",
    "'''\n",
    "result = graph.run(query)\n",
    "print(result) # \n",
    "\n",
    "#fact\n",
    "query = '''\n",
    "LOAD CSV WITH HEADERS FROM 'file:/papers/Nodos/fact.csv' AS line\n",
    "CREATE (m:Fact {identifier: line.identifier, hasSubject: line.hasSubject,\n",
    "hasProperty: line.hasProperty, hasObject: line.hasObject}) RETURN count(m)\n",
    "'''\n",
    "result = graph.run(query)\n",
    "print(result) # \n",
    "\n",
    "#algoritm\n",
    "query = '''\n",
    "LOAD CSV WITH HEADERS FROM 'file:/papers/Nodos/algoritm.csv' AS line\n",
    "CREATE (m:Algoritm {identifier: line.identifier, uri: line.uri, label: line.label}) RETURN count(m)\n",
    "'''\n",
    "result = graph.run(query)\n",
    "print(result) # \n",
    "\n",
    "#dataSet\n",
    "query = '''\n",
    "LOAD CSV WITH HEADERS FROM 'file:/papers/Nodos/dataSet.csv' AS line\n",
    "CREATE (m:DataSet {identifier: line.identifier, uri: line.uri, label: line.label}) RETURN count(m)\n",
    "'''\n",
    "result = graph.run(query)\n",
    "print(result) # \n",
    "\n",
    "#evaluation\n",
    "query = '''\n",
    "LOAD CSV WITH HEADERS FROM 'file:/papers/Nodos/evaluation.csv' AS line\n",
    "CREATE (m:Evaluation {identifier: line.identifier, uri: line.uri, label: line.label}) RETURN count(m)\n",
    "'''\n",
    "result = graph.run(query)\n",
    "print(result) # \n",
    "\n",
    "#experiment\n",
    "query = '''\n",
    "LOAD CSV WITH HEADERS FROM 'file:/papers/Nodos/exprement.csv' AS line\n",
    "CREATE (m:experiment {identifier: line.identifier, uri: line.uri, label: line.label}) RETURN count(m)\n",
    "'''\n",
    "result = graph.run(query)\n",
    "print(result) # \n",
    "\n",
    "#Group\n",
    "query = '''\n",
    "LOAD CSV WITH HEADERS FROM 'file:/papers/Nodos/group.csv' AS line\n",
    "CREATE (m:Group {identifier: line.identifier, uri: line.uri, label: line.label}) RETURN count(m)\n",
    "'''\n",
    "result = graph.run(query)\n",
    "print(result) # \n",
    "\n",
    "#method\n",
    "query = '''\n",
    "LOAD CSV WITH HEADERS FROM 'file:/papers/Nodos/method.csv' AS line\n",
    "CREATE (m:Method {identifier: line.identifier, uri: line.uri, label: line.label}) RETURN count(m)\n",
    "'''\n",
    "result = graph.run(query)\n",
    "print(result) # \n",
    "\n",
    "#person\n",
    "query = '''\n",
    "LOAD CSV WITH HEADERS FROM 'file:/papers/Nodos/person.csv' AS line\n",
    "CREATE (m:Person {identifier: line.identifier, uri: line.uri, label: line.label}) RETURN count(m)\n",
    "'''\n",
    "result = graph.run(query)\n",
    "print(result) # \n",
    "\n",
    "#researchField\n",
    "query = '''\n",
    "LOAD CSV WITH HEADERS FROM 'file:/papers/Nodos/researchField.csv' AS line\n",
    "CREATE (m:ResearchField {identifier: line.identifier, uri: line.uri, label: line.label}) RETURN count(m)\n",
    "'''\n",
    "result = graph.run(query)\n",
    "print(result) # \n",
    "\n",
    "#technology\n",
    "query = '''\n",
    "LOAD CSV WITH HEADERS FROM 'file:/papers/Nodos/technology.csv' AS line\n",
    "CREATE (m:Technology {identifier: line.identifier, uri: line.uri, label: line.label}) RETURN count(m)\n",
    "'''\n",
    "result = graph.run(query)\n",
    "print(result) # \n",
    "\n",
    "#tool\n",
    "query = '''\n",
    "LOAD CSV WITH HEADERS FROM 'file:/papers/Nodos/tool.csv' AS line\n",
    "CREATE (m:Tool {identifier: line.identifier, uri: line.uri, label: line.label}) RETURN count(m)\n",
    "'''\n",
    "result = graph.run(query)\n",
    "print(result) # "
   ]
  },
  {
   "cell_type": "markdown",
   "id": "2acb62ca-5308-4ce1-9268-b05253e231ce",
   "metadata": {},
   "source": [
    "## Indices"
   ]
  },
  {
   "cell_type": "code",
   "execution_count": 8,
   "id": "d226f9e9-d78d-4e0b-aa97-35a4600f2dac",
   "metadata": {},
   "outputs": [],
   "source": [
    "queries = [\n",
    "    \"CREATE INDEX FOR (m:Paper) ON (m.identifier);\",\n",
    "    \"CREATE INDEX FOR (m:Author) ON (m.identifier);\",\n",
    "    \"CREATE INDEX FOR (m:City) ON (m.identifier);\",\n",
    "    \"CREATE INDEX FOR (m:Country) ON (m.identifier);\",\n",
    "    \"CREATE INDEX FOR (m:Key) ON (m.identifier);\",\n",
    "    \"CREATE INDEX FOR (m:Journal) ON (m.identifier);\",\n",
    "    \"CREATE INDEX FOR (m:Concept) ON (m.identifier);\",\n",
    "    \"CREATE INDEX FOR (m:Affiliation) ON (m.identifier);\",\n",
    "    \"CREATE INDEX FOR (m:Publisher) ON (m.identifier);\",\n",
    "    \"CREATE INDEX FOR (m:Region) ON (m.identifier);\",\n",
    "    \"CREATE INDEX FOR (m:Chunk) ON (m.identifier);\",\n",
    "    \"CREATE INDEX FOR (m:Fact) ON (m.identifier);\",\n",
    "    \"CREATE INDEX FOR (m:Algoritm) ON (m.identifier);\",\n",
    "    \"CREATE INDEX FOR (m:DataSet) ON (m.identifier);\",\n",
    "    \"CREATE INDEX FOR (m:Evaluation) ON (m.identifier);\",\n",
    "    \"CREATE INDEX FOR (m:experiment) ON (m.identifier);\",\n",
    "    \"CREATE INDEX FOR (m:Group) ON (m.identifier);\",\n",
    "    \"CREATE INDEX FOR (m:Method) ON (m.identifier);\",\n",
    "    \"CREATE INDEX FOR (m:Person) ON (m.identifier);\",\n",
    "    \"CREATE INDEX FOR (m:ResearchField) ON (m.identifier);\",\n",
    "    \"CREATE INDEX FOR (m:Technology) ON (m.identifier);\",\n",
    "    \"CREATE INDEX FOR (m:Tool) ON (m.identifier);\"\n",
    "]\n",
    "\n",
    "for query in queries:\n",
    "    graph.run(query)"
   ]
  },
  {
   "cell_type": "markdown",
   "id": "ce1fc6f4-30a9-4812-ab04-2752fd01f484",
   "metadata": {},
   "source": [
    "## Insertar relaciones entre los nodos"
   ]
  },
  {
   "cell_type": "code",
   "execution_count": 9,
   "id": "001afd0d-315a-4222-b271-914cd5989836",
   "metadata": {},
   "outputs": [
    {
     "name": "stdout",
     "output_type": "stream",
     "text": [
      " count(r) \n",
      "----------\n",
      "     1440 \n",
      "\n"
     ]
    }
   ],
   "source": [
    "#City - Country\n",
    "query = '''\n",
    "LOAD CSV WITH HEADERS FROM 'file:/papers/Relaciones/cityCountry.csv' AS line\n",
    "MATCH (m1:Country {identifier: line.country}), (m2:City {identifier: line.city})\n",
    "CREATE (m2)-[r:containedInPlace]->(m1)\n",
    "RETURN count(r)\n",
    "'''\n",
    "result2 = graph.run(query)\n",
    "print(result2)   # 1474"
   ]
  },
  {
   "cell_type": "code",
   "execution_count": 10,
   "id": "771351e9-da9c-4dd4-a463-6adb76bf5be2",
   "metadata": {},
   "outputs": [
    {
     "name": "stdout",
     "output_type": "stream",
     "text": [
      " count(m1) \n",
      "-----------\n",
      "        50 \n",
      "\n"
     ]
    }
   ],
   "source": [
    "#Country - Region\n",
    "query = '''\n",
    "LOAD CSV WITH HEADERS FROM 'file:/papers/Relaciones/regionCountry.csv' AS line\n",
    "MATCH (m1:Country {identifier: line.country}), (m2:Region {identifier: line.region})\n",
    "CREATE (m2)-[:containedInPlace]->(m1)\n",
    "RETURN count(m1)\n",
    "'''\n",
    "result2 = graph.run(query)\n",
    "print(result2)   # 50"
   ]
  },
  {
   "cell_type": "code",
   "execution_count": 11,
   "id": "b1dbb09e-8a78-4fcd-824e-381acad7c418",
   "metadata": {},
   "outputs": [
    {
     "name": "stdout",
     "output_type": "stream",
     "text": [
      " count(m1) \n",
      "-----------\n",
      "       493 \n",
      "\n"
     ]
    }
   ],
   "source": [
    "#Journal - Publisher\n",
    "query = '''\n",
    "LOAD CSV WITH HEADERS FROM 'file:/papers/Relaciones/journalPublisher.csv' AS line\n",
    "MATCH (m1:Journal {identifier: line.journal}), (m2:Publisher {identifier: line.publisher})\n",
    "CREATE (m1)-[:publisher]->(m2)\n",
    "RETURN count(m1)\n",
    "'''\n",
    "result2 = graph.run(query)\n",
    "print(result2)   # 449 "
   ]
  },
  {
   "cell_type": "code",
   "execution_count": 12,
   "id": "f8c58239-1d45-4ab0-8cce-07a51c7d06ab",
   "metadata": {},
   "outputs": [
    {
     "name": "stdout",
     "output_type": "stream",
     "text": [
      " count(m1) \n",
      "-----------\n",
      "       614 \n",
      "\n"
     ]
    }
   ],
   "source": [
    "#Journal - Country\n",
    "query = '''\n",
    "LOAD CSV WITH HEADERS FROM 'file:/papers/Relaciones/journalCountry.csv' AS line\n",
    "MATCH (m1:Journal {identifier: line.journal}), (m2:Country {identifier: line.country})\n",
    "CREATE (m1)-[:location]->(m2)\n",
    "RETURN count(m1)\n",
    "'''\n",
    "result2 = graph.run(query)\n",
    "print(result2)   # 449\n"
   ]
  },
  {
   "cell_type": "code",
   "execution_count": 13,
   "id": "2d224a2e-d99d-4123-b3b2-cbca1c9b0fe8",
   "metadata": {},
   "outputs": [
    {
     "name": "stdout",
     "output_type": "stream",
     "text": [
      " count(m1) \n",
      "-----------\n",
      "      2113 \n",
      "\n"
     ]
    }
   ],
   "source": [
    "#Journal - Concept\n",
    "query = '''\n",
    "LOAD CSV WITH HEADERS FROM 'file:/papers/Relaciones/journalConcept.csv' AS line\n",
    "MATCH (m1:Journal {identifier: line.journal}), (m2:Concept {identifier: line.concept})\n",
    "CREATE (m1)-[:concept]->(m2)\n",
    "RETURN count(m1)\n",
    "'''\n",
    "result2 = graph.run(query)\n",
    "print(result2)   # 1536"
   ]
  },
  {
   "cell_type": "code",
   "execution_count": 14,
   "id": "2a036275-4c81-41e6-abfa-cd26cbcd5d66",
   "metadata": {},
   "outputs": [
    {
     "name": "stdout",
     "output_type": "stream",
     "text": [
      " count(m1) \n",
      "-----------\n",
      "      3771 \n",
      "\n"
     ]
    }
   ],
   "source": [
    "#Aff-City\n",
    "query = '''\n",
    "LOAD CSV WITH HEADERS FROM 'file:/papers/Relaciones/affCity.csv' AS line\n",
    "MATCH (m1:Affiliation {identifier: line.affili}), (m2:City {identifier: line.city})\n",
    "CREATE (m1)-[:location]->(m2)\n",
    "RETURN count(m1)\n",
    "'''\n",
    "result2 = graph.run(query)\n",
    "print(result2)   # 2964\n"
   ]
  },
  {
   "cell_type": "code",
   "execution_count": 15,
   "id": "4e62ea97-cbca-48a1-bff4-d1dd76068d6d",
   "metadata": {},
   "outputs": [
    {
     "name": "stdout",
     "output_type": "stream",
     "text": [
      " count(m1) \n",
      "-----------\n",
      "     69386 \n",
      "\n"
     ]
    }
   ],
   "source": [
    "#Autores-Aff\n",
    "query = '''\n",
    "LOAD CSV WITH HEADERS FROM 'file:/papers/Relaciones/autoresAffiliations.csv' AS line\n",
    "MATCH (m1:Author {identifier: line.autor}), (m2:Affiliation {identifier: line.affiliation})\n",
    "CREATE (m1)-[:affiliation]->(m2)\n",
    "RETURN count(m1)\n",
    "'''\n",
    "result2 = graph.run(query)\n",
    "print(result2)   # 24714\n"
   ]
  },
  {
   "cell_type": "code",
   "execution_count": 16,
   "id": "912839a3-1398-4300-81a1-e65404a8ee78",
   "metadata": {},
   "outputs": [
    {
     "name": "stdout",
     "output_type": "stream",
     "text": [
      " count(m1) \n",
      "-----------\n",
      "      7141 \n",
      "\n"
     ]
    }
   ],
   "source": [
    "#Paper-journal\n",
    "query = '''\n",
    "LOAD CSV WITH HEADERS FROM 'file:/papers/Relaciones/paperJournal.csv' AS line\n",
    "MATCH (m1:Paper {identifier: line.paper}), (m2:Journal {identifier: line.journal})\n",
    "CREATE (m1)-[:sdPublisher]->(m2)\n",
    "RETURN count(m1)\n",
    "'''\n",
    "result2 = graph.run(query)\n",
    "print(result2)   # 5098"
   ]
  },
  {
   "cell_type": "code",
   "execution_count": 17,
   "id": "7413b625-cae2-4af0-904b-4f9ebb69f39b",
   "metadata": {},
   "outputs": [
    {
     "name": "stdout",
     "output_type": "stream",
     "text": [
      " count(m1) \n",
      "-----------\n",
      "     62855 \n",
      "\n"
     ]
    }
   ],
   "source": [
    "#Paper-key\n",
    "query = '''\n",
    "LOAD CSV WITH HEADERS FROM 'file:/papers/Relaciones/papers-key.csv' AS line\n",
    "MATCH (m1:Paper {identifier: line.papers}), (m2:Key {identifier: line.key})\n",
    "CREATE (m1)-[:keyWords]->(m2)\n",
    "RETURN count(m1)\n",
    "'''\n",
    "result2 = graph.run(query)\n",
    "print(result2)   # 37236"
   ]
  },
  {
   "cell_type": "code",
   "execution_count": 18,
   "id": "4d89b88f-4f30-4652-9e02-15ba457ec03c",
   "metadata": {},
   "outputs": [
    {
     "name": "stdout",
     "output_type": "stream",
     "text": [
      " count(m1) \n",
      "-----------\n",
      "     12629 \n",
      "\n"
     ]
    }
   ],
   "source": [
    "#Paper-publisher\n",
    "query = '''\n",
    "LOAD CSV WITH HEADERS FROM 'file:/papers/Relaciones/paperPublisher.csv' AS line\n",
    "MATCH (m1:Paper {identifier: line.paper}), (m2:Publisher {identifier: line.publisher})\n",
    "CREATE (m1)-[:publisher]->(m2)\n",
    "RETURN count(m1)\n",
    "'''\n",
    "result2 = graph.run(query)\n",
    "print(result2)   # 8251"
   ]
  },
  {
   "cell_type": "code",
   "execution_count": 19,
   "id": "964bb9a3-397c-450e-8d7f-ede4d8c7f8a0",
   "metadata": {},
   "outputs": [
    {
     "name": "stdout",
     "output_type": "stream",
     "text": [
      " count(m1) \n",
      "-----------\n",
      "    130599 \n",
      "\n"
     ]
    }
   ],
   "source": [
    "#Paper-autores relacion creator\n",
    "query = '''\n",
    "LOAD CSV WITH HEADERS FROM 'file:/papers/Relaciones/papersAutores.csv' AS line\n",
    "MATCH (m1:Paper {identifier: line.paper}), (m2:Author {identifier: line.autor})\n",
    "CREATE (m1)-[:creator]->(m2)\n",
    "RETURN count(m1)\n",
    "'''\n",
    "result2 = graph.run(query)\n",
    "print(result2)   # 130599"
   ]
  },
  {
   "cell_type": "code",
   "execution_count": 20,
   "id": "bbd390a2-3b1c-4d02-afc8-4a6e4497be69",
   "metadata": {},
   "outputs": [
    {
     "name": "stdout",
     "output_type": "stream",
     "text": [
      " count(m1) \n",
      "-----------\n",
      "    130599 \n",
      "\n"
     ]
    }
   ],
   "source": [
    "#Paper-autores relacion author\n",
    "query = '''\n",
    "LOAD CSV WITH HEADERS FROM 'file:/papers/Relaciones/papersAutores.csv' AS line\n",
    "MATCH (m1:Paper {identifier: line.paper}), (m2:Author {identifier: line.autor})\n",
    "CREATE (m2)-[:author]->(m1)\n",
    "RETURN count(m1)\n",
    "'''\n",
    "result2 = graph.run(query)\n",
    "print(result2)   # 130599"
   ]
  },
  {
   "cell_type": "code",
   "execution_count": 21,
   "id": "e04f0433-2190-4001-9090-74401bedb8be",
   "metadata": {},
   "outputs": [
    {
     "name": "stdout",
     "output_type": "stream",
     "text": [
      " count(m1) \n",
      "-----------\n",
      "    267937 \n",
      "\n"
     ]
    }
   ],
   "source": [
    "#Paper-Paper(relaciones)\n",
    "query = '''\n",
    "LOAD CSV WITH HEADERS FROM 'file:/papers/Relaciones/references.csv' AS line\n",
    "MATCH (m1:Paper {identifier: line.paper1}), (m2:Paper {identifier: line.paper2})\n",
    "CREATE (m1)-[:references]->(m2)\n",
    "RETURN count(m1)\n",
    "'''\n",
    "result2 = graph.run(query)\n",
    "print(result2)   # 366825"
   ]
  },
  {
   "cell_type": "code",
   "execution_count": 22,
   "id": "0d01220b-5ba9-44d0-9404-cc09744fd33b",
   "metadata": {},
   "outputs": [
    {
     "name": "stdout",
     "output_type": "stream",
     "text": [
      " count(m1) \n",
      "-----------\n",
      "      3572 \n",
      "\n"
     ]
    }
   ],
   "source": [
    "#Paper-Chunk\n",
    "query = '''\n",
    "LOAD CSV WITH HEADERS FROM 'file:/papers/Relaciones/paperChunk.csv' AS line\n",
    "MATCH (m1:Paper {identifier: line.paper}), (m2:Chunk {identifier: line.chunk})\n",
    "CREATE (m1)-[:hasPart]->(m2)\n",
    "RETURN count(m1)\n",
    "'''\n",
    "result2 = graph.run(query)\n",
    "print(result2)"
   ]
  },
  {
   "cell_type": "code",
   "execution_count": 23,
   "id": "e6064447-d4f2-4f32-be89-fe65a94fe13b",
   "metadata": {},
   "outputs": [
    {
     "name": "stdout",
     "output_type": "stream",
     "text": [
      " count(m1) \n",
      "-----------\n",
      "     18830 \n",
      "\n"
     ]
    }
   ],
   "source": [
    "#Chunk-Fact\n",
    "query = '''\n",
    "LOAD CSV WITH HEADERS FROM 'file:/papers/Relaciones/chunkFact.csv' AS line\n",
    "MATCH (m1:Chunk {identifier: line.chunk}), (m2:Fact {identifier: line.fact})\n",
    "CREATE (m1)-[:hasPart]->(m2)\n",
    "RETURN count(m1)\n",
    "'''\n",
    "result2 = graph.run(query)\n",
    "print(result2)"
   ]
  },
  {
   "cell_type": "code",
   "execution_count": 24,
   "id": "72038960-9afe-47e0-b377-e156998621c6",
   "metadata": {},
   "outputs": [
    {
     "name": "stdout",
     "output_type": "stream",
     "text": [
      " count(m1) \n",
      "-----------\n",
      "      2539 \n",
      "\n",
      " count(m1) \n",
      "-----------\n",
      "       582 \n",
      "\n"
     ]
    }
   ],
   "source": [
    "#Fact-Algoritm\n",
    "query = '''\n",
    "LOAD CSV WITH HEADERS FROM 'file:/papers/Relaciones/FactAlg.csv' AS line\n",
    "MATCH (m1:Fact {identifier: line.fact}), (m2:Algoritm {identifier: line.algoritm})\n",
    "CREATE (m1)-[:hasSubject]->(m2)\n",
    "RETURN count(m1)\n",
    "'''\n",
    "result = graph.run(query)\n",
    "print(result)\n",
    "\n",
    "query = '''\n",
    "LOAD CSV WITH HEADERS FROM 'file:/papers/Relaciones/FactAlgT.csv' AS line\n",
    "MATCH (m1:Fact {identifier: line.fact}), (m2:Algoritm {identifier: line.algoritm})\n",
    "CREATE (m1)-[:hasObject]->(m2)\n",
    "RETURN count(m1)\n",
    "'''\n",
    "result2 = graph.run(query)\n",
    "print(result2)"
   ]
  },
  {
   "cell_type": "code",
   "execution_count": 25,
   "id": "59ea0d6b-c173-4e96-9e9a-4fb5461aaf6b",
   "metadata": {},
   "outputs": [
    {
     "name": "stdout",
     "output_type": "stream",
     "text": [
      " count(m1) \n",
      "-----------\n",
      "       638 \n",
      "\n",
      " count(m1) \n",
      "-----------\n",
      "       411 \n",
      "\n"
     ]
    }
   ],
   "source": [
    "#Fact-DataSet\n",
    "query = '''\n",
    "LOAD CSV WITH HEADERS FROM 'file:/papers/Relaciones/factDat.csv' AS line\n",
    "MATCH (m1:Fact {identifier: line.fact}), (m2:DataSet {identifier: line.dataSet})\n",
    "CREATE (m1)-[:hasSubject]->(m2)\n",
    "RETURN count(m1)\n",
    "'''\n",
    "result = graph.run(query)\n",
    "print(result)\n",
    "\n",
    "query = '''\n",
    "LOAD CSV WITH HEADERS FROM 'file:/papers/Relaciones/factDatT.csv' AS line\n",
    "MATCH (m1:Fact {identifier: line.fact}), (m2:DataSet {identifier: line.dataSet})\n",
    "CREATE (m1)-[:hasObject]->(m2)\n",
    "RETURN count(m1)\n",
    "'''\n",
    "result2 = graph.run(query)\n",
    "print(result2)"
   ]
  },
  {
   "cell_type": "code",
   "execution_count": 26,
   "id": "af116cf7-4bb4-4dfe-95ce-3a259e190eae",
   "metadata": {},
   "outputs": [
    {
     "name": "stdout",
     "output_type": "stream",
     "text": [
      " count(m1) \n",
      "-----------\n",
      "        42 \n",
      "\n",
      " count(m1) \n",
      "-----------\n",
      "        38 \n",
      "\n"
     ]
    }
   ],
   "source": [
    "#Fact-Evaluation\n",
    "query = '''\n",
    "LOAD CSV WITH HEADERS FROM 'file:/papers/Relaciones/factEva.csv' AS line\n",
    "MATCH (m1:Fact {identifier: line.fact}), (m2:Evaluation {identifier: line.evaluation})\n",
    "CREATE (m1)-[:hasSubject]->(m2)\n",
    "RETURN count(m1)\n",
    "'''\n",
    "result = graph.run(query)\n",
    "print(result)\n",
    "\n",
    "query = '''\n",
    "LOAD CSV WITH HEADERS FROM 'file:/papers/Relaciones/FactEvaT.csv' AS line\n",
    "MATCH (m1:Fact {identifier: line.fact}), (m2:Evaluation {identifier: line.evaluation})\n",
    "CREATE (m1)-[:hasObject]->(m2)\n",
    "RETURN count(m1)\n",
    "'''\n",
    "result2 = graph.run(query)\n",
    "print(result2)"
   ]
  },
  {
   "cell_type": "code",
   "execution_count": 27,
   "id": "b5eee7a9-ea73-4cf7-ad45-4c70a02e0bf4",
   "metadata": {},
   "outputs": [
    {
     "name": "stdout",
     "output_type": "stream",
     "text": [
      " count(m1) \n",
      "-----------\n",
      "       174 \n",
      "\n",
      " count(m1) \n",
      "-----------\n",
      "        76 \n",
      "\n"
     ]
    }
   ],
   "source": [
    "#Fact-exprement\n",
    "query = '''\n",
    "LOAD CSV WITH HEADERS FROM 'file:/papers/Relaciones/FactExp.csv' AS line\n",
    "MATCH (m1:Fact {identifier: line.fact}), (m2:experiment {identifier: line.exprement})\n",
    "CREATE (m1)-[:hasSubject]->(m2)\n",
    "RETURN count(m1)\n",
    "'''\n",
    "result = graph.run(query)\n",
    "print(result)\n",
    "\n",
    "query = '''\n",
    "LOAD CSV WITH HEADERS FROM 'file:/papers/Relaciones/FactExpT.csv' AS line\n",
    "MATCH (m1:Fact {identifier: line.fact}), (m2:experiment {identifier: line.exprement})\n",
    "CREATE (m1)-[:hasObject]->(m2)\n",
    "RETURN count(m1)\n",
    "'''\n",
    "result2 = graph.run(query)\n",
    "print(result2)"
   ]
  },
  {
   "cell_type": "code",
   "execution_count": 28,
   "id": "ea3264be-b17a-40ba-9daa-9984917f2412",
   "metadata": {},
   "outputs": [
    {
     "name": "stdout",
     "output_type": "stream",
     "text": [
      " count(m1) \n",
      "-----------\n",
      "       601 \n",
      "\n",
      " count(m1) \n",
      "-----------\n",
      "        65 \n",
      "\n"
     ]
    }
   ],
   "source": [
    "#Fact-Group\n",
    "query = '''\n",
    "LOAD CSV WITH HEADERS FROM 'file:/papers/Relaciones/factGro.csv' AS line\n",
    "MATCH (m1:Fact {identifier: line.fact}), (m2:Group {identifier: line.group})\n",
    "CREATE (m1)-[:hasSubject]->(m2)\n",
    "RETURN count(m1)\n",
    "'''\n",
    "result = graph.run(query)\n",
    "print(result)\n",
    "\n",
    "query = '''\n",
    "LOAD CSV WITH HEADERS FROM 'file:/papers/Relaciones/factGroT.csv' AS line\n",
    "MATCH (m1:Fact {identifier: line.fact}), (m2:Group {identifier: line.group})\n",
    "CREATE (m1)-[:hasObject]->(m2)\n",
    "RETURN count(m1)\n",
    "'''\n",
    "result2 = graph.run(query)\n",
    "print(result2)"
   ]
  },
  {
   "cell_type": "code",
   "execution_count": 29,
   "id": "990544c6-a48a-47f1-a0f6-50e1874f3bad",
   "metadata": {},
   "outputs": [
    {
     "name": "stdout",
     "output_type": "stream",
     "text": [
      " count(m1) \n",
      "-----------\n",
      "      4698 \n",
      "\n",
      " count(m1) \n",
      "-----------\n",
      "      1720 \n",
      "\n"
     ]
    }
   ],
   "source": [
    "#Fact-Method\n",
    "query = '''\n",
    "LOAD CSV WITH HEADERS FROM 'file:/papers/Relaciones/FactMet.csv' AS line\n",
    "MATCH (m1:Fact {identifier: line.fact}), (m2:Method {identifier: line.method})\n",
    "CREATE (m1)-[:hasSubject]->(m2)\n",
    "RETURN count(m1)\n",
    "'''\n",
    "result = graph.run(query)\n",
    "print(result)\n",
    "\n",
    "query = '''\n",
    "LOAD CSV WITH HEADERS FROM 'file:/papers/Relaciones/FactMetT.csv' AS line\n",
    "MATCH (m1:Fact {identifier: line.fact}), (m2:Method {identifier: line.method})\n",
    "CREATE (m1)-[:hasObject]->(m2)\n",
    "RETURN count(m1)\n",
    "'''\n",
    "result2 = graph.run(query)\n",
    "print(result2)"
   ]
  },
  {
   "cell_type": "code",
   "execution_count": 30,
   "id": "b859bdf7-97e2-45f6-9524-ddae3b761b9a",
   "metadata": {},
   "outputs": [
    {
     "name": "stdout",
     "output_type": "stream",
     "text": [
      " count(m1) \n",
      "-----------\n",
      "       502 \n",
      "\n",
      " count(m1) \n",
      "-----------\n",
      "        97 \n",
      "\n"
     ]
    }
   ],
   "source": [
    "#Fact-Person\n",
    "query = '''\n",
    "LOAD CSV WITH HEADERS FROM 'file:/papers/Relaciones/FactPer.csv' AS line\n",
    "MATCH (m1:Fact {identifier: line.fact}), (m2:Person {identifier: line.person})\n",
    "CREATE (m1)-[:hasSubject]->(m2)\n",
    "RETURN count(m1)\n",
    "'''\n",
    "result = graph.run(query)\n",
    "print(result)\n",
    "\n",
    "query = '''\n",
    "LOAD CSV WITH HEADERS FROM 'file:/papers/Relaciones/FactPerT.csv' AS line\n",
    "MATCH (m1:Fact {identifier: line.fact}), (m2:Person {identifier: line.person})\n",
    "CREATE (m1)-[:hasObject]->(m2)\n",
    "RETURN count(m1)\n",
    "'''\n",
    "result2 = graph.run(query)\n",
    "print(result2)"
   ]
  },
  {
   "cell_type": "code",
   "execution_count": 31,
   "id": "ed4def02-b611-4f7a-99cb-d185e227f919",
   "metadata": {},
   "outputs": [
    {
     "name": "stdout",
     "output_type": "stream",
     "text": [
      " count(m1) \n",
      "-----------\n",
      "       625 \n",
      "\n",
      " count(m1) \n",
      "-----------\n",
      "       787 \n",
      "\n"
     ]
    }
   ],
   "source": [
    "#Fact-ResearchField\n",
    "query = '''\n",
    "LOAD CSV WITH HEADERS FROM 'file:/papers/Relaciones/FactRes.csv' AS line\n",
    "MATCH (m1:Fact {identifier: line.fact}), (m2:ResearchField {identifier: line.researchField})\n",
    "CREATE (m1)-[:hasSubject]->(m2)\n",
    "RETURN count(m1)\n",
    "'''\n",
    "result = graph.run(query)\n",
    "print(result)\n",
    "\n",
    "query = '''\n",
    "LOAD CSV WITH HEADERS FROM 'file:/papers/Relaciones/factResT.csv' AS line\n",
    "MATCH (m1:Fact {identifier: line.fact}), (m2:ResearchField {identifier: line.researchField})\n",
    "CREATE (m1)-[:hasObject]->(m2)\n",
    "RETURN count(m1)\n",
    "'''\n",
    "result2 = graph.run(query)\n",
    "print(result2)"
   ]
  },
  {
   "cell_type": "code",
   "execution_count": 32,
   "id": "bcfa2a94-4858-4282-8d69-9f35de544fcc",
   "metadata": {},
   "outputs": [
    {
     "name": "stdout",
     "output_type": "stream",
     "text": [
      " count(m1) \n",
      "-----------\n",
      "      3305 \n",
      "\n",
      " count(m1) \n",
      "-----------\n",
      "       767 \n",
      "\n"
     ]
    }
   ],
   "source": [
    "#Fact-ResearchField\n",
    "query = '''\n",
    "LOAD CSV WITH HEADERS FROM 'file:/papers/Relaciones/FactTec.csv' AS line\n",
    "MATCH (m1:Fact {identifier: line.fact}), (m2:Technology {identifier: line.technology})\n",
    "CREATE (m1)-[:hasSubject]->(m2)\n",
    "RETURN count(m1)\n",
    "'''\n",
    "result = graph.run(query)\n",
    "print(result)\n",
    "\n",
    "query = '''\n",
    "LOAD CSV WITH HEADERS FROM 'file:/papers/Relaciones/FactTecT.csv' AS line\n",
    "MATCH (m1:Fact {identifier: line.fact}), (m2:Technology {identifier: line.technology})\n",
    "CREATE (m1)-[:hasObject]->(m2)\n",
    "RETURN count(m1)\n",
    "'''\n",
    "result2 = graph.run(query)\n",
    "print(result2)"
   ]
  },
  {
   "cell_type": "code",
   "execution_count": 33,
   "id": "cde05e9e-4256-4076-9cc0-69d46fb534a2",
   "metadata": {},
   "outputs": [
    {
     "name": "stdout",
     "output_type": "stream",
     "text": [
      " count(m1) \n",
      "-----------\n",
      "       920 \n",
      "\n",
      " count(m1) \n",
      "-----------\n",
      "       261 \n",
      "\n"
     ]
    }
   ],
   "source": [
    "#Fact-ResearchField\n",
    "query = '''\n",
    "LOAD CSV WITH HEADERS FROM 'file:/papers/Relaciones/FactToo.csv' AS line\n",
    "MATCH (m1:Fact {identifier: line.fact}), (m2:Tool {identifier: line.tool})\n",
    "CREATE (m1)-[:hasSubject]->(m2)\n",
    "RETURN count(m1)\n",
    "'''\n",
    "result = graph.run(query)\n",
    "print(result)\n",
    "\n",
    "query = '''\n",
    "LOAD CSV WITH HEADERS FROM 'file:/papers/Relaciones/FactTooT.csv' AS line\n",
    "MATCH (m1:Fact {identifier: line.fact}), (m2:Tool {identifier: line.tool})\n",
    "CREATE (m1)-[:hasObject]->(m2)\n",
    "RETURN count(m1)\n",
    "'''\n",
    "result2 = graph.run(query)\n",
    "print(result2)"
   ]
  },
  {
   "cell_type": "code",
   "execution_count": null,
   "id": "2f2632c5-0801-4b66-888a-dc5a720231e6",
   "metadata": {},
   "outputs": [],
   "source": []
  },
  {
   "cell_type": "code",
   "execution_count": null,
   "id": "32b3ec4e-ff4d-497f-ba30-6f47eec14d96",
   "metadata": {},
   "outputs": [],
   "source": []
  }
 ],
 "metadata": {
  "kernelspec": {
   "display_name": "Python 3 (ipykernel)",
   "language": "python",
   "name": "python3"
  },
  "language_info": {
   "codemirror_mode": {
    "name": "ipython",
    "version": 3
   },
   "file_extension": ".py",
   "mimetype": "text/x-python",
   "name": "python",
   "nbconvert_exporter": "python",
   "pygments_lexer": "ipython3",
   "version": "3.8.18"
  }
 },
 "nbformat": 4,
 "nbformat_minor": 5
}
