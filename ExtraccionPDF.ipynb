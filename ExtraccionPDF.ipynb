{
 "cells": [
  {
   "cell_type": "code",
   "execution_count": 9,
   "id": "8604847f-e949-4f25-b95e-0d364207f506",
   "metadata": {},
   "source": [
    "#Imports\n",
    "import math\n",
    "import requests\n",
    "import json\n",
    "import csv\n",
    "import pandas as pd\n",
    "import requests\n",
    "from requests.exceptions import HTTPError\n",
    "import re\n",
    "from bs4 import BeautifulSoup\n",
    "from selenium import webdriver\n",
    "from selenium.webdriver.common.by import By\n",
    "from selenium.webdriver.safari.service import Service\n",
    "import time\n"
   ],
   "outputs": []
  },
  {
   "cell_type": "code",
   "execution_count": 10,
   "id": "985722d2-f61b-483e-b06c-69306494bccc",
   "metadata": {
    "scrolled": true
   },
   "source": [
    "data = pd.read_csv(\"ScopusSearch.csv\")\n",
    "data1 = pd.read_csv(\"AbstractRetrieval.csv\")\n",
    "mergeData = pd.merge(data, data1, on='eid', how='left')\n",
    "mergeData"
   ],
   "outputs": []
  },
  {
   "cell_type": "code",
   "execution_count": 3,
   "id": "896bfcfa-31f6-4e46-b575-e21c58c057c8",
   "metadata": {},
   "source": [
    "mergeData.columns"
   ],
   "outputs": []
  },
  {
   "cell_type": "code",
   "execution_count": 4,
   "id": "7eecae04-7d06-4273-b8bf-1e6f4eb9eb6c",
   "metadata": {},
   "source": [
    "springer_filter = mergeData[\n",
    "    mergeData['publisher'].str.contains('Springer', case=False, na=False) |\n",
    "    mergeData['publisher'].str.contains('Institute of Electrical and Electronics Engineers Inc', case=False, na=False)\n",
    "]\n",
    "len(springer_filter)"
   ],
   "outputs": []
  },
  {
   "cell_type": "code",
   "execution_count": 5,
   "id": "bc7d5cc8-5a81-4d08-8a4f-b5a2fb79555b",
   "metadata": {},
   "source": [
    "springer_filter['publisher'].value_counts()"
   ],
   "outputs": []
  },
  {
   "cell_type": "code",
   "execution_count": 9,
   "id": "7d68a8ae-e43c-4a28-af65-f777526edfa1",
   "metadata": {},
   "source": [
    "springer_filter"
   ],
   "outputs": []
  },
  {
   "cell_type": "code",
   "execution_count": 6,
   "id": "0103525f-947e-487e-8219-6d3d58103f54",
   "metadata": {},
   "source": [
    "springer_filter['subtypeDescription'].unique()"
   ],
   "outputs": []
  },
  {
   "cell_type": "code",
   "execution_count": 15,
   "id": "badf9ebe-bdbb-43a4-a487-2f4bf96d99bf",
   "metadata": {},
   "source": [
    "springer_filter = mergeData[mergeData['subtypeDescription'].isin(['Article', 'Conference Paper'])]\n",
    "springer_filter['subtypeDescription'].unique()\n"
   ],
   "outputs": []
  },
  {
   "cell_type": "code",
   "execution_count": 16,
   "id": "9e417f35-9635-4f35-8714-0425e6ea7535",
   "metadata": {},
   "source": [
    "key = springer_filter[springer_filter['authkeywords'].str.contains('Artificial intelligence', case=False, na=False)]\n",
    "len(key)"
   ],
   "outputs": []
  },
  {
   "cell_type": "code",
   "execution_count": 6,
   "id": "a24a1403-799e-4aaf-a70a-0d13061f2e94",
   "metadata": {
    "scrolled": true
   },
   "source": [
    "key['authkeywords']"
   ],
   "outputs": []
  },
  {
   "cell_type": "code",
   "execution_count": 8,
   "id": "f04d123e-2f3e-4748-a79e-e9e098aaaa17",
   "metadata": {},
   "source": [
    "key.to_csv(\"AIfilter.csv\", index=False)"
   ],
   "outputs": []
  },
  {
   "cell_type": "markdown",
   "id": "daaa78f7-62a8-4872-8b48-4a02b3c12f81",
   "metadata": {},
   "source": [
    "## Se inicia la sesion "
   ]
  },
  {
   "cell_type": "code",
   "execution_count": 10,
   "id": "a265fc97-eb46-4934-8dee-3c80d787fb43",
   "metadata": {},
   "source": [
    "service = Service('/usr/bin/safaridriver')  # SafariDriver está ubicado en /usr/bin/safaridriver\n",
    "driver = webdriver.Safari(service=service)"
   ],
   "outputs": []
  },
  {
   "cell_type": "code",
   "execution_count": 11,
   "id": "bc4d8adf-936a-4bcb-b64b-60cf38b8b178",
   "metadata": {
    "scrolled": true
   },
   "source": [
    "#Stringer#\n",
    "Stringer = 'https://doi.org/10.1007/s10845-020-01712-9'\n",
    "driver.get(Stringer)\n",
    "\n",
    "time.sleep(2)\n",
    "cokies = driver.find_element(By.CSS_SELECTOR,\".cc-button--secondary\")\n",
    "cokies.click() #cokies\n",
    "\n",
    "\n",
    "button = driver.find_element(By.CSS_SELECTOR,\".app-article-access .u-button--primary, .app-article-access .u-button--primary:visited\")\n",
    "button.click()\n",
    "\n",
    "\n",
    "time.sleep(5)\n",
    "cokies = driver.find_element(By.CSS_SELECTOR,\".cc-button--secondary\")\n",
    "cokies.click() ## cokies\n",
    "\n",
    "button = driver.find_element(By.CSS_SELECTOR,\"*[data-test=search]\")\n",
    "button.click()\n",
    "\n",
    "\n",
    "button.send_keys('UTPl')\n",
    "time.sleep(5)\n",
    "button = driver.find_element(By.CSS_SELECTOR,\".c-results-container__result\")\n",
    "button.click()\n",
    "\n",
    "\n",
    "time.sleep(10)\n",
    "us = driver.find_element(By.ID,\"userNameInput\")\n",
    "us.click()\n",
    "us.send_keys('trgaona1@utpl.edu.ec')\n",
    "\n",
    "us = driver.find_element(By.ID,\"passwordInput\")\n",
    "us.click()\n",
    "us.send_keys('j5hfrWRM')\n",
    "\n",
    "\n",
    "us = driver.find_element(By.ID,\"submitButton\")\n",
    "us.click()"
   ],
   "outputs": []
  },
  {
   "cell_type": "markdown",
   "id": "bb8a019e-e1fa-4024-b0d5-ab29598de564",
   "metadata": {},
   "source": [
    "#IEEE#\n",
    "\n",
    "IEEE = 'https://doi.org/10.1109/ISDFS60797.2024.10527283'\n",
    "driver.get(IEEE)\n",
    "driver.get(IEEE)\n",
    "time.sleep(10)\n",
    "button = driver.find_element(By.CSS_SELECTOR,\".institution-container .inst-sign-in\")\n",
    "button.click()\n",
    "time.sleep(5)\n",
    "\n",
    "button = driver.find_element(By.CLASS_NAME,\"seamless-access-btn\")\n",
    "button.click()\n",
    "\n",
    "time.sleep(5)\n",
    "button = driver.find_element(By.CLASS_NAME,\"inst-typeahead-input\")\n",
    "button.click()\n",
    "button.send_keys('loja')\n",
    "\n",
    "time.sleep(5)\n",
    "button = driver.find_element(By.ID,\"Universidad TÃ©cnica Particular de Loja\")\n",
    "button.click()\n",
    "\n",
    "\"\"\"\n",
    "time.sleep(5)\n",
    "us = driver.find_element(By.ID,\"userNameInput\")\n",
    "us.click()\n",
    "us.send_keys('trgaona1@utpl.edu.ec')\n",
    "\n",
    "us = driver.find_element(By.ID,\"passwordInput\")\n",
    "us.click()\n",
    "us.send_keys('j5hfrWRM')\n",
    "\n",
    "us = driver.find_element(By.ID,\"submitButton\")\n",
    "us.click()\n",
    "\"\"\""
   ]
  },
  {
   "cell_type": "markdown",
   "id": "2f34d078-ea35-4129-bbab-3b6b73c4f84f",
   "metadata": {},
   "source": [
    "### Extracción de PDFs"
   ]
  },
  {
   "cell_type": "code",
   "execution_count": 22,
   "id": "7812483f-7c49-4d37-b7ef-dac9a9b31bbf",
   "metadata": {
    "scrolled": true
   },
   "source": [
    "a = []\n",
    "z = []\n",
    "i = 1\n",
    "x = 1\n",
    "for c in key.itertuples():\n",
    "    str = \"https://doi.org/\"+c.doi\n",
    "    try:\n",
    "        time.sleep(5)\n",
    "        driver.get(str)\n",
    "        page_source = driver.page_source\n",
    "        soup = BeautifulSoup(page_source, 'html.parser')\n",
    "        pdf_link_tag = soup.find('a', class_='u-button u-button--full-width u-button--primary u-justify-content-space-between c-pdf-download__link')\n",
    "        pdf_url = \"https://link.springer.com\" + pdf_link_tag['href']\n",
    "        if pdf_url.endswith(\".pdf\"):\n",
    "            a.append([c.eid,pdf_url])\n",
    "        else:\n",
    "            z.append([c.eid,str])\n",
    "    except:\n",
    "        z.append([c.eid,str])\n"
   ],
   "outputs": []
  },
  {
   "cell_type": "code",
   "execution_count": 25,
   "id": "be802965-2960-4696-b825-aaf92d0fdeac",
   "metadata": {},
   "source": [
    "a"
   ],
   "outputs": []
  },
  {
   "cell_type": "code",
   "execution_count": 221,
   "id": "118b3c98-bd35-448c-82d4-15dd28c2927c",
   "metadata": {},
   "source": [
    "f"
   ],
   "outputs": []
  },
  {
   "cell_type": "code",
   "execution_count": 24,
   "id": "5543a3d6-d2fa-4e53-a9fb-f0951681b6be",
   "metadata": {},
   "source": [
    "z"
   ],
   "outputs": []
  },
  {
   "cell_type": "code",
   "execution_count": 27,
   "id": "233f2da7-336d-4aac-b734-2ec23d6abbb7",
   "metadata": {},
   "source": [
    "l = []"
   ],
   "outputs": []
  },
  {
   "cell_type": "code",
   "execution_count": 45,
   "id": "b510a5ef-f4f6-413a-86b4-0ad6b66bd3d6",
   "metadata": {},
   "source": [
    "l.append([\"2-s2.0-85047089156\",\"https://doi.org/10.1109/ICTUS.2017.8286021\"])"
   ],
   "outputs": []
  },
  {
   "cell_type": "code",
   "execution_count": 46,
   "id": "fb0bf25e-3840-4493-ab69-7861a9c0ffff",
   "metadata": {},
   "source": [
    "l"
   ],
   "outputs": []
  },
  {
   "cell_type": "code",
   "execution_count": 35,
   "id": "697234d5-8466-47ac-9c99-b6074538993e",
   "metadata": {
    "scrolled": true
   },
   "source": [
    "import subprocess\n",
    "\n",
    "for c in a:\n",
    "    # Nombre del archivo de salida (opcional, si wget no lo decide)\n",
    "    filename = c[0],\".pdf\"\n",
    "    # Ejecuta wget con la opción de content disposition\n",
    "    subprocess.run(['wget', '--content-disposition', c[1], '-O', filename], check=True)\n",
    "\n",
    "print(f\"El archivo ha sido guardado como {filename}.\")\n"
   ],
   "outputs": []
  },
  {
   "cell_type": "code",
   "execution_count": null,
   "id": "e87f83e2-9238-4d95-8c40-a2d817ad8f37",
   "metadata": {},
   "source": [],
   "outputs": []
  }
 ],
 "metadata": {
  "kernelspec": {
   "display_name": "Python 3 (ipykernel)",
   "language": "python",
   "name": "python3"
  },
  "language_info": {
   "codemirror_mode": {
    "name": "ipython",
    "version": 3
   },
   "file_extension": ".py",
   "mimetype": "text/x-python",
   "name": "python",
   "nbconvert_exporter": "python",
   "pygments_lexer": "ipython3",
   "version": "3.8.18"
  }
 },
 "nbformat": 4,
 "nbformat_minor": 5
}
