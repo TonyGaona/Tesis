{
 "cells": [
  {
   "cell_type": "code",
   "execution_count": 24,
   "id": "d3cb3e94",
   "metadata": {},
   "source": [
    "import os\n",
    "import google.generativeai as genai\n",
    "import math\n",
    "import requests\n",
    "import csv\n",
    "import pandas as pd\n",
    "import re\n",
    "import os\n",
    "import configparser\n",
    "import json\n",
    "import unicodedata\n",
    "import re\n",
    "import time\n",
    "import numpy as np"
   ],
   "outputs": []
  },
  {
   "cell_type": "code",
   "execution_count": 25,
   "id": "377118a0-83af-4852-9cfe-e5377aa6bdef",
   "metadata": {},
   "source": [
    "df = pd.read_csv(\"E_T3kE.csv\")\n",
    "df.columns = ['id', 'eid', 'content', 'vector', 'page_number', 'split_id', 'word_count', 'head1', 'head_type', 'relation', 'tail', 'tail_type']\n",
    "df"
   ],
   "outputs": []
  },
  {
   "cell_type": "code",
   "execution_count": 26,
   "id": "7a2b9917-ba28-4e56-a645-7889edf794d8",
   "metadata": {},
   "source": [
    "org = pd.read_csv('org.csv', sep=\";\", on_bad_lines=\"skip\", engine=\"python\")\n",
    "org = org.drop('Unnamed: 3', axis=1)\n",
    "org = org.drop(columns=['eid'])\n",
    "org = org.drop_duplicates()\n",
    "org"
   ],
   "outputs": []
  },
  {
   "cell_type": "code",
   "execution_count": 27,
   "id": "586a4050-2958-4188-9a86-3dd0eb89a380",
   "metadata": {
    "scrolled": true
   },
   "source": [
    "triples = pd.merge(df, org, left_on=['head1'], right_on=['ori'], how='left')\n",
    "triples = triples.drop_duplicates()\n",
    "triples['head1'] = np.where(triples['head1'] == triples['ori'], triples['cam'], triples['head1'])\n",
    "triples = triples.drop(columns=['ori', 'cam'])\n",
    "triples = triples.dropna()\n",
    "triples = triples.drop_duplicates()\n",
    "triples"
   ],
   "outputs": []
  },
  {
   "cell_type": "code",
   "execution_count": 28,
   "id": "f58f7796-a42d-4d22-b633-5e61124c3194",
   "metadata": {},
   "source": [
    "triples = pd.merge(triples, org, left_on=['tail'], right_on=['ori'], how='left')\n",
    "triples = triples.drop_duplicates()\n",
    "triples['tail'] = np.where(triples['tail'] == triples['ori'], triples['cam'], triples['tail'])\n",
    "triples = triples.drop_duplicates()\n",
    "triples = triples.drop(columns=['ori', 'cam'])\n",
    "triples"
   ],
   "outputs": []
  },
  {
   "cell_type": "code",
   "execution_count": 29,
   "id": "d8187c72-5d89-490f-bddc-782df1b06a2e",
   "metadata": {},
   "source": [
    "#triples.to_csv(\"triplesLLM.csv\", index=False, encoding=\"utf-8\")"
   ],
   "outputs": []
  },
  {
   "cell_type": "markdown",
   "id": "1aa126e3",
   "metadata": {},
   "source": [
    "DBpedia"
   ]
  },
  {
   "cell_type": "code",
   "execution_count": 48,
   "id": "a93e3d65-094a-4518-b87b-d2414fc753fd",
   "metadata": {},
   "source": [
    "import requests\n",
    "\n",
    "def annotate(text, confidence=0.5, support=20):\n",
    "    # URL del endpoint de DBpedia Spotlight\n",
    "    endpoint = \"https://api.dbpedia-spotlight.org/en/annotate\"\n",
    "    headers = {\"Accept\": \"application/json\"}\n",
    "    params = {\n",
    "        \"text\": text,\n",
    "        \"confidence\": confidence,\n",
    "        \"support\": support,\n",
    "    }\n",
    "\n",
    "    # Realizar la solicitud a la API\n",
    "    try:\n",
    "        response = requests.get(endpoint, headers=headers, params=params)\n",
    "        if response.status_code != 200:\n",
    "            return -1\n",
    "        data = response.json()        \n",
    "        # Extraer la entidad con más relación\n",
    "        return data[\"Resources\"][0][\"@URI\"]\n",
    "            \n",
    "    except Exception as e:\n",
    "        return 0\n",
    "\n",
    "\n",
    "        \n",
    "# Ejemplo de uso\n",
    "# text = \"ecuador y quito su capital\"\n",
    "# entities = annotate(text)"
   ],
   "outputs": []
  },
  {
   "cell_type": "code",
   "execution_count": 49,
   "id": "aafc27cc-1537-4595-a432-9e750dc64746",
   "metadata": {},
   "source": [
    "cValidos = 0 \n",
    "cFallidos = 0\n",
    "cTotal   = 0\n",
    "entities = []\n",
    "\n",
    "\n",
    "df = triples[['head1']]\n",
    "df['head1'] = df['head1'].str.lower()\n",
    "df = df.drop_duplicates(subset='head1', keep='first')\n"
   ],
   "outputs": []
  },
  {
   "cell_type": "code",
   "execution_count": 50,
   "id": "426d3c6b-2a33-4e91-a427-be5cee0f1441",
   "metadata": {
    "scrolled": true
   },
   "source": [
    "\n",
    "for x in range(0,5290):\n",
    "    cTotal += 1\n",
    "    print(x+1, end=\" \")\n",
    "    time.sleep(3) \n",
    "\n",
    "    try:\n",
    "        i = df.iloc[x]\n",
    "        print(i.head1, end=\" \")\n",
    "        enti = annotate(i.head1)\n",
    "        if enti != 0:\n",
    "            entities.append([i.head1, enti])\n",
    "            cValidos += 1\n",
    "            print(\"S\")\n",
    "        elif enti == -1:  \n",
    "            break\n",
    "        else:\n",
    "            cFallidos += 1\n",
    "            print(\"N\")\n",
    "    except Exception as e:\n",
    "        # Imprimir el error o manejarlo de alguna otra forma\n",
    "        cFallidos += 1\n",
    "        print(\"N\")"
   ],
   "outputs": []
  },
  {
   "cell_type": "code",
   "execution_count": 51,
   "id": "43e2a693-918a-4054-a22c-154d3eee144f",
   "metadata": {},
   "source": [
    "print(\"Total de entidades con respuesta : \",cValidos)\n",
    "print(\"Total de entidades sin respuesta : \",cFallidos)\n",
    "print(\"Total de entidades               : \",cTotal)\n"
   ],
   "outputs": []
  },
  {
   "cell_type": "code",
   "execution_count": 55,
   "id": "1b3551ca-e8b4-4885-9466-43411562b9b2",
   "metadata": {},
   "source": [
    "#T = pd.DataFrame(entities)\n",
    "#T.to_csv(\"1dbpedia.csv\", index=False)\n",
    "T = pd.read_csv(\"dbpedia.csv\")\n",
    "T.columns = ['org', 'cam']\n",
    "T"
   ],
   "outputs": []
  },
  {
   "cell_type": "code",
   "execution_count": 56,
   "id": "e769924f-1366-408a-b7e7-888cacc4e6aa",
   "metadata": {},
   "source": [
    "tf = triples\n",
    "tf['head1'] = tf['head1'].str.lower()\n",
    "tf['tail'] = tf['tail'].str.lower()\n",
    "T['org'] = T['org'].str.lower()\n",
    "tf = tf.merge(T, how='left', left_on='head1', right_on='org')\n",
    "tf['head1'] = tf['cam'].where(tf['cam'].notna(), tf['head1'])\n",
    "tf = tf.drop(columns=['org', 'cam'])\n",
    "tf = tf.merge(T, how='left', left_on='tail', right_on='org')\n",
    "tf['tail'] = tf['cam'].where(tf['cam'].notna(), tf['tail'])\n",
    "tf = tf.drop(columns=['org', 'cam'])\n",
    "tf.to_csv(\"triplesLLMcompletas.csv\", index=False)\n"
   ],
   "outputs": []
  },
  {
   "cell_type": "code",
   "execution_count": 57,
   "id": "4b3c91cc-187a-4833-ae8a-043a000cda1c",
   "metadata": {},
   "source": [
    "tf"
   ],
   "outputs": []
  },
  {
   "cell_type": "code",
   "execution_count": null,
   "id": "53c7a3a5",
   "metadata": {},
   "source": [],
   "outputs": []
  }
 ],
 "metadata": {
  "kernelspec": {
   "display_name": "Python 3 (ipykernel)",
   "language": "python",
   "name": "python3"
  },
  "language_info": {
   "codemirror_mode": {
    "name": "ipython",
    "version": 3
   },
   "file_extension": ".py",
   "mimetype": "text/x-python",
   "name": "python",
   "nbconvert_exporter": "python",
   "pygments_lexer": "ipython3",
   "version": "3.8.18"
  }
 },
 "nbformat": 4,
 "nbformat_minor": 5
}
