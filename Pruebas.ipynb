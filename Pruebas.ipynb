{
 "cells": [
  {
   "metadata": {},
   "cell_type": "markdown",
   "source": [
    "## Para autores\n",
    "query = '''\n",
    "CALL gds.nodeSimilarity.stream(\n",
    "  'authorPaper', \n",
    "  {\n",
    "    relationshipTypes: ['keyWords','author','affiliation'] \n",
    "  }\n",
    ")\n",
    "YIELD node1, node2, similarity\n",
    "WITH gds.util.asNode(node1) AS n1, gds.util.asNode(node2) AS n2, similarity\n",
    "WHERE 'Author' IN labels(n1) \n",
    "  AND 'Author' IN labels(n2)  \n",
    "MERGE (n1)-[r:AUTHOR_SIMILARITY]->(n2)\n",
    "SET r.similarity = similarity\n",
    "'''\n",
    "\n",
    "\n",
    "result = graph.run(query)\n",
    "\n",
    "## Para papers \n",
    "\n",
    "\n",
    "query = '''\n",
    "CALL gds.nodeSimilarity.stream(\n",
    "  'paperGraph', \n",
    "  {\n",
    "    relationshipTypes: ['keyWords']\n",
    "  }\n",
    ")\n",
    "YIELD node1, node2, similarity\n",
    "WITH gds.util.asNode(node1) AS n1, gds.util.asNode(node2) AS n2, similarity\n",
    "WHERE 'Paper' IN labels(n1) \n",
    "  AND 'Paper' IN labels(n2) \n",
    "MERGE (n1)-[r:SIMILAR_BY_KEY]->(n2)\n",
    "SET r.similarity = similarity\n",
    "'''\n",
    "\n",
    "result = graph.run(query)\n"
   ],
   "id": "e5e96a1fdbe5b"
  },
  {
   "cell_type": "code",
   "id": "initial_id",
   "metadata": {
    "collapsed": true,
    "ExecuteTime": {
     "end_time": "2025-03-05T16:32:56.002206Z",
     "start_time": "2025-03-05T16:32:55.995848Z"
    }
   },
   "source": [
    "import streamlit as st\n",
    "import py2neo\n",
    "import pandas as pd\n",
    "\n",
    "nuevaLabel=\"Artificial intelligence\"\n",
    "graph = py2neo.Graph(\"bolt://localhost:7687\",user = \"neo4j\" ,password=\"123456789\", name = \"tesis\")\n",
    "\n",
    "def label(graph, entity1, label1):\n",
    "    # Formar la consulta con la etiqueta (no puede ser parámetro)\n",
    "    query = f'''\n",
    "        MATCH (e:{entity1})<-[:hasSubject|:hasObject]-(f:Fact)<-[:hasPart]-(c:Chunk)<-[:hasPart]-(p:Paper)<-[:author]-(a:Author)\n",
    "        WITH e.label AS Entidad, p.identifier AS PaperID\n",
    "        WITH Entidad, COUNT(DISTINCT PaperID) AS Frecuencia\n",
    "        ORDER BY Frecuencia DESC\n",
    "        RETURN Entidad\n",
    "        Limit 10\n",
    "\n",
    "        '''\n",
    "    # Ejecutar la consulta\n",
    "    return graph.run(query, label1=label1) "
   ],
   "outputs": [
    {
     "ename": "SyntaxError",
     "evalue": "invalid syntax (3753297120.py, line 4)",
     "output_type": "error",
     "traceback": [
      "\u001B[0;36m  Cell \u001B[0;32mIn[9], line 4\u001B[0;36m\u001B[0m\n\u001B[0;31m    from prototipo/funciones import *\u001B[0m\n\u001B[0m                  ^\u001B[0m\n\u001B[0;31mSyntaxError\u001B[0m\u001B[0;31m:\u001B[0m invalid syntax\n"
     ]
    }
   ],
   "execution_count": 9
  },
  {
   "metadata": {
    "ExecuteTime": {
     "end_time": "2025-02-26T15:46:41.530634Z",
     "start_time": "2025-02-26T15:46:41.478064Z"
    }
   },
   "cell_type": "code",
   "source": "print(label(graph,\"Method\",\"Cluster analysis\"))",
   "id": "adc0acdaa64e15e",
   "outputs": [
    {
     "name": "stdout",
     "output_type": "stream",
     "text": [
      "(No data)\n"
     ]
    }
   ],
   "execution_count": 5
  },
  {
   "metadata": {
    "ExecuteTime": {
     "end_time": "2025-02-26T15:46:44.066821Z",
     "start_time": "2025-02-26T15:46:43.850247Z"
    }
   },
   "cell_type": "code",
   "source": [
    "query = '''\n",
    "CALL gds.graph.list()\n",
    "YIELD graphName\n",
    "CALL gds.graph.drop(graphName)\n",
    "YIELD graphName AS droppedGraph\n",
    "RETURN droppedGraph\n",
    "'''\n",
    "\n",
    "graph.run(query)\n",
    "\n",
    "\n",
    "query = '''\n",
    "CALL gds.graph.project(\n",
    "  'paperGraph',\n",
    "  ['Paper', 'Fact', 'Chunk', 'Key', 'Technology', 'Method', 'Person', 'Group', 'Algoritm', 'ResearchField', 'Tool','Evaluation'\n",
    "  ,'DataSet', 'Exprement'],\n",
    "  {\n",
    "    keyWords: {\n",
    "      orientation: 'UNDIRECTED'\n",
    "    },\n",
    "    RELATED_TO: {\n",
    "      orientation: 'UNDIRECTED'\n",
    "    }\n",
    "    \n",
    "      \n",
    "  }\n",
    ")\n",
    "'''\n",
    "graph.run(query) \n",
    "query = '''\n",
    "CALL gds.graph.project(\n",
    "  'authorPaper',\n",
    "  ['Key','Paper', 'Author','Affiliation'],\n",
    "  {\n",
    "    author: {\n",
    "      orientation: 'UNDIRECTED'\n",
    "    },\n",
    "    affiliation: {\n",
    "      orientation: 'UNDIRECTED'\n",
    "    },\n",
    "    keyWords: {\n",
    "      orientation: 'UNDIRECTED'\n",
    "    }\n",
    "  }\n",
    ")\n",
    "'''\n",
    "graph.run(query) "
   ],
   "id": "c01ca04e1bed2e18",
   "outputs": [
    {
     "data": {
      "text/plain": [
       " nodeProjection                                                                                                                                                                 | relationshipProjection                                                                                                                                                                                                                                                                                                                                               | graphName   | nodeCount | relationshipCount | projectMillis \n",
       "--------------------------------------------------------------------------------------------------------------------------------------------------------------------------------|----------------------------------------------------------------------------------------------------------------------------------------------------------------------------------------------------------------------------------------------------------------------------------------------------------------------------------------------------------------------|-------------|-----------|-------------------|---------------\n",
       " {Paper: {label: 'Paper', properties: {}}, Affiliation: {label: 'Affiliation', properties: {}}, Key: {label: 'Key', properties: {}}, Author: {label: 'Author', properties: {}}} | {author: {aggregation: 'DEFAULT', orientation: 'UNDIRECTED', indexInverse: false, properties: {}, type: 'author'}, keyWords: {aggregation: 'DEFAULT', orientation: 'UNDIRECTED', indexInverse: false, properties: {}, type: 'keyWords'}, affiliation: {aggregation: 'DEFAULT', orientation: 'UNDIRECTED', indexInverse: false, properties: {}, type: 'affiliation'}} | authorPaper |    288028 |            525680 |            62 "
      ],
      "text/html": [
       "<table><tr><th>nodeProjection</th><th>relationshipProjection</th><th>graphName</th><th>nodeCount</th><th>relationshipCount</th><th>projectMillis</th></tr><tr><td style=\"text-align:left\">{Paper: {label: &#039;Paper&#039;, properties: {}}, Affiliation: {label: &#039;Affiliation&#039;, properties: {}}, Key: {label: &#039;Key&#039;, properties: {}}, Author: {label: &#039;Author&#039;, properties: {}}}</td><td style=\"text-align:left\">{author: {aggregation: &#039;DEFAULT&#039;, orientation: &#039;UNDIRECTED&#039;, indexInverse: false, properties: {}, type: &#039;author&#039;}, keyWords: {aggregation: &#039;DEFAULT&#039;, orientation: &#039;UNDIRECTED&#039;, indexInverse: false, properties: {}, type: &#039;keyWords&#039;}, affiliation: {aggregation: &#039;DEFAULT&#039;, orientation: &#039;UNDIRECTED&#039;, indexInverse: false, properties: {}, type: &#039;affiliation&#039;}}</td><td style=\"text-align:left\">authorPaper</td><td style=\"text-align:right\">288028</td><td style=\"text-align:right\">525680</td><td style=\"text-align:right\">62</td></tr></table>"
      ]
     },
     "execution_count": 6,
     "metadata": {},
     "output_type": "execute_result"
    }
   ],
   "execution_count": 6
  },
  {
   "metadata": {},
   "cell_type": "markdown",
   "source": "Author",
   "id": "517f6e84588a58a4"
  },
  {
   "metadata": {
    "ExecuteTime": {
     "end_time": "2025-02-03T02:00:28.854218Z",
     "start_time": "2025-02-03T01:59:30.593566Z"
    }
   },
   "cell_type": "code",
   "source": [
    "query = '''\n",
    "CALL gds.nodeSimilarity.stream(\n",
    "  'authorPaper', \n",
    "  {\n",
    "    relationshipTypes: ['keyWords','author','affiliation'] \n",
    "  }\n",
    ")\n",
    "YIELD node1, node2, similarity\n",
    "WITH gds.util.asNode(node1) AS n1, gds.util.asNode(node2) AS n2, similarity\n",
    "WHERE 'Author' IN labels(n1) \n",
    "  AND 'Author' IN labels(n2) \n",
    "  \n",
    "RETURN n1.identifier AS node1,n1.name, n2.identifier AS node2,n2.name, similarity\n",
    "ORDER BY similarity DESC,node1, node2\n",
    "'''\n",
    "\n",
    "\n",
    "result = graph.run(query)"
   ],
   "id": "8e1ea890be57c9dd",
   "outputs": [],
   "execution_count": 28
  },
  {
   "metadata": {
    "ExecuteTime": {
     "end_time": "2025-02-26T15:48:28.310863Z",
     "start_time": "2025-02-26T15:46:51.500162Z"
    }
   },
   "cell_type": "code",
   "source": [
    "query = '''\n",
    "CALL gds.nodeSimilarity.stream(\n",
    "  'authorPaper', \n",
    "  {\n",
    "    relationshipTypes: ['keyWords','author','affiliation'] \n",
    "  }\n",
    ")\n",
    "YIELD node1, node2, similarity\n",
    "WITH gds.util.asNode(node1) AS n1, gds.util.asNode(node2) AS n2, similarity\n",
    "WHERE 'Author' IN labels(n1) \n",
    "  AND 'Author' IN labels(n2)  \n",
    "MERGE (n1)-[r:AUTHOR_SIMILARITY]->(n2)\n",
    "SET r.similarity = similarity\n",
    "'''\n",
    "\n",
    "\n",
    "result = graph.run(query)"
   ],
   "id": "d7dd11701be3eae4",
   "outputs": [],
   "execution_count": 7
  },
  {
   "metadata": {
    "ExecuteTime": {
     "end_time": "2025-02-03T02:00:30.024840Z",
     "start_time": "2025-02-03T02:00:28.855018Z"
    }
   },
   "cell_type": "code",
   "source": [
    "dataSim = result.data()\n",
    "df = pd.DataFrame(dataSim)\n",
    "df"
   ],
   "id": "10b0f2107c8faad5",
   "outputs": [
    {
     "data": {
      "text/plain": [
       "              node1                   n1.name        node2  \\\n",
       "0       10038907100            Qiu, Zhong Pan  16202478800   \n",
       "1       10038907100            Qiu, Zhong Pan  57328044300   \n",
       "2       10039124600            Ryan, Sadie J.  13005665700   \n",
       "3       10039124600            Ryan, Sadie J.  19336815200   \n",
       "4       10039124600            Ryan, Sadie J.  35772939700   \n",
       "...             ...                       ...          ...   \n",
       "246946  57219659228  Soto, Carlos Manuel Diaz  56267555100   \n",
       "246947  16743568200            Ferrás, Carlos  53866250100   \n",
       "246948  16743568200            Ferrás, Carlos  53866250100   \n",
       "246949  57202507497       Haro, Marco Salinas  53866250100   \n",
       "246950  57202507497       Haro, Marco Salinas  53866250100   \n",
       "\n",
       "                          n2.name  similarity  \n",
       "0                    Han, Shuihua    1.000000  \n",
       "1                Sandrine, Mukase    1.000000  \n",
       "2             Blackburn, Jason K.    1.000000  \n",
       "3       Burkett-Cadena, Nathan D.    1.000000  \n",
       "4                      Mao, Liang    1.000000  \n",
       "...                           ...         ...  \n",
       "246946      Guerrero, Janio Jadan    0.009259  \n",
       "246947                 Guarda, T.    0.005348  \n",
       "246948             Guarda, Teresa    0.005348  \n",
       "246949                 Guarda, T.    0.005348  \n",
       "246950             Guarda, Teresa    0.005348  \n",
       "\n",
       "[246951 rows x 5 columns]"
      ],
      "text/html": [
       "<div>\n",
       "<style scoped>\n",
       "    .dataframe tbody tr th:only-of-type {\n",
       "        vertical-align: middle;\n",
       "    }\n",
       "\n",
       "    .dataframe tbody tr th {\n",
       "        vertical-align: top;\n",
       "    }\n",
       "\n",
       "    .dataframe thead th {\n",
       "        text-align: right;\n",
       "    }\n",
       "</style>\n",
       "<table border=\"1\" class=\"dataframe\">\n",
       "  <thead>\n",
       "    <tr style=\"text-align: right;\">\n",
       "      <th></th>\n",
       "      <th>node1</th>\n",
       "      <th>n1.name</th>\n",
       "      <th>node2</th>\n",
       "      <th>n2.name</th>\n",
       "      <th>similarity</th>\n",
       "    </tr>\n",
       "  </thead>\n",
       "  <tbody>\n",
       "    <tr>\n",
       "      <th>0</th>\n",
       "      <td>10038907100</td>\n",
       "      <td>Qiu, Zhong Pan</td>\n",
       "      <td>16202478800</td>\n",
       "      <td>Han, Shuihua</td>\n",
       "      <td>1.000000</td>\n",
       "    </tr>\n",
       "    <tr>\n",
       "      <th>1</th>\n",
       "      <td>10038907100</td>\n",
       "      <td>Qiu, Zhong Pan</td>\n",
       "      <td>57328044300</td>\n",
       "      <td>Sandrine, Mukase</td>\n",
       "      <td>1.000000</td>\n",
       "    </tr>\n",
       "    <tr>\n",
       "      <th>2</th>\n",
       "      <td>10039124600</td>\n",
       "      <td>Ryan, Sadie J.</td>\n",
       "      <td>13005665700</td>\n",
       "      <td>Blackburn, Jason K.</td>\n",
       "      <td>1.000000</td>\n",
       "    </tr>\n",
       "    <tr>\n",
       "      <th>3</th>\n",
       "      <td>10039124600</td>\n",
       "      <td>Ryan, Sadie J.</td>\n",
       "      <td>19336815200</td>\n",
       "      <td>Burkett-Cadena, Nathan D.</td>\n",
       "      <td>1.000000</td>\n",
       "    </tr>\n",
       "    <tr>\n",
       "      <th>4</th>\n",
       "      <td>10039124600</td>\n",
       "      <td>Ryan, Sadie J.</td>\n",
       "      <td>35772939700</td>\n",
       "      <td>Mao, Liang</td>\n",
       "      <td>1.000000</td>\n",
       "    </tr>\n",
       "    <tr>\n",
       "      <th>...</th>\n",
       "      <td>...</td>\n",
       "      <td>...</td>\n",
       "      <td>...</td>\n",
       "      <td>...</td>\n",
       "      <td>...</td>\n",
       "    </tr>\n",
       "    <tr>\n",
       "      <th>246946</th>\n",
       "      <td>57219659228</td>\n",
       "      <td>Soto, Carlos Manuel Diaz</td>\n",
       "      <td>56267555100</td>\n",
       "      <td>Guerrero, Janio Jadan</td>\n",
       "      <td>0.009259</td>\n",
       "    </tr>\n",
       "    <tr>\n",
       "      <th>246947</th>\n",
       "      <td>16743568200</td>\n",
       "      <td>Ferrás, Carlos</td>\n",
       "      <td>53866250100</td>\n",
       "      <td>Guarda, T.</td>\n",
       "      <td>0.005348</td>\n",
       "    </tr>\n",
       "    <tr>\n",
       "      <th>246948</th>\n",
       "      <td>16743568200</td>\n",
       "      <td>Ferrás, Carlos</td>\n",
       "      <td>53866250100</td>\n",
       "      <td>Guarda, Teresa</td>\n",
       "      <td>0.005348</td>\n",
       "    </tr>\n",
       "    <tr>\n",
       "      <th>246949</th>\n",
       "      <td>57202507497</td>\n",
       "      <td>Haro, Marco Salinas</td>\n",
       "      <td>53866250100</td>\n",
       "      <td>Guarda, T.</td>\n",
       "      <td>0.005348</td>\n",
       "    </tr>\n",
       "    <tr>\n",
       "      <th>246950</th>\n",
       "      <td>57202507497</td>\n",
       "      <td>Haro, Marco Salinas</td>\n",
       "      <td>53866250100</td>\n",
       "      <td>Guarda, Teresa</td>\n",
       "      <td>0.005348</td>\n",
       "    </tr>\n",
       "  </tbody>\n",
       "</table>\n",
       "<p>246951 rows × 5 columns</p>\n",
       "</div>"
      ]
     },
     "execution_count": 29,
     "metadata": {},
     "output_type": "execute_result"
    }
   ],
   "execution_count": 29
  },
  {
   "metadata": {},
   "cell_type": "markdown",
   "source": "KEYWORDS",
   "id": "b79ad5c3f0db207e"
  },
  {
   "metadata": {
    "ExecuteTime": {
     "end_time": "2025-02-02T15:40:24.961268Z",
     "start_time": "2025-02-02T15:40:10.591335Z"
    }
   },
   "cell_type": "code",
   "source": [
    "\n",
    "query = '''\n",
    "CALL gds.nodeSimilarity.stream(\n",
    "  'paperGraph', \n",
    "  {\n",
    "    relationshipTypes: ['keyWords']\n",
    "  }\n",
    ")\n",
    "YIELD node1, node2, similarity\n",
    "WITH gds.util.asNode(node1) AS n1, gds.util.asNode(node2) AS n2, similarity\n",
    "WHERE n1.identifier = '2-s2.0-85075203274'\n",
    "  AND 'Paper' IN labels(n2) \n",
    "RETURN n1.identifier AS node1, n2.identifier AS node2, similarity\n",
    "ORDER BY similarity DESC,node1, node2\n",
    "'''\n",
    "\n",
    "result = graph.run(query)"
   ],
   "id": "cdfa08bd34486f93",
   "outputs": [],
   "execution_count": 132
  },
  {
   "metadata": {
    "ExecuteTime": {
     "end_time": "2025-02-26T15:49:22.685007Z",
     "start_time": "2025-02-26T15:49:03.827238Z"
    }
   },
   "cell_type": "code",
   "source": [
    "\n",
    "query = '''\n",
    "CALL gds.nodeSimilarity.stream(\n",
    "  'paperGraph', \n",
    "  {\n",
    "    relationshipTypes: ['keyWords']\n",
    "  }\n",
    ")\n",
    "YIELD node1, node2, similarity\n",
    "WITH gds.util.asNode(node1) AS n1, gds.util.asNode(node2) AS n2, similarity\n",
    "WHERE 'Paper' IN labels(n1) \n",
    "  AND 'Paper' IN labels(n2) \n",
    "MERGE (n1)-[r:SIMILAR_BY_KEY]->(n2)\n",
    "SET r.similarity = similarity\n",
    "'''\n",
    "\n",
    "result = graph.run(query)"
   ],
   "id": "2a7ec7650af7d5dd",
   "outputs": [],
   "execution_count": 8
  },
  {
   "metadata": {
    "ExecuteTime": {
     "end_time": "2025-02-03T00:27:52.454288Z",
     "start_time": "2025-02-03T00:27:52.418525Z"
    }
   },
   "cell_type": "code",
   "source": [
    "\n",
    "dataSim = result.data()\n",
    "df = pd.DataFrame(dataSim)\n",
    "df"
   ],
   "id": "c1a1cb02274da23d",
   "outputs": [
    {
     "data": {
      "text/plain": [
       "Empty DataFrame\n",
       "Columns: []\n",
       "Index: []"
      ],
      "text/html": [
       "<div>\n",
       "<style scoped>\n",
       "    .dataframe tbody tr th:only-of-type {\n",
       "        vertical-align: middle;\n",
       "    }\n",
       "\n",
       "    .dataframe tbody tr th {\n",
       "        vertical-align: top;\n",
       "    }\n",
       "\n",
       "    .dataframe thead th {\n",
       "        text-align: right;\n",
       "    }\n",
       "</style>\n",
       "<table border=\"1\" class=\"dataframe\">\n",
       "  <thead>\n",
       "    <tr style=\"text-align: right;\">\n",
       "      <th></th>\n",
       "    </tr>\n",
       "  </thead>\n",
       "  <tbody>\n",
       "  </tbody>\n",
       "</table>\n",
       "</div>"
      ]
     },
     "execution_count": 21,
     "metadata": {},
     "output_type": "execute_result"
    }
   ],
   "execution_count": 21
  },
  {
   "metadata": {},
   "cell_type": "markdown",
   "source": "Por Entity",
   "id": "d0d0b1cf8d717d57"
  },
  {
   "metadata": {
    "ExecuteTime": {
     "end_time": "2025-02-03T00:20:45.938967Z",
     "start_time": "2025-02-03T00:20:45.793034Z"
    }
   },
   "cell_type": "code",
   "source": [
    "\n",
    "query = '''\n",
    "CALL gds.nodeSimilarity.stream(\n",
    "  'paperGraph', \n",
    "  {\n",
    "    relationshipTypes: ['RELATED_TO']\n",
    "  }\n",
    ")\n",
    "YIELD node1, node2, similarity\n",
    "WITH gds.util.asNode(node1) AS n1, gds.util.asNode(node2) AS n2, similarity\n",
    "WHERE n1.identifier = '2-s2.0-85075203274'\n",
    "RETURN n1.identifier AS node1, n2.identifier AS node2, similarity AS similarity\n",
    "ORDER BY similarity DESC, node2\n",
    "'''\n",
    "\n",
    "\n",
    "result = graph.run(query)"
   ],
   "id": "77cb718c194baf47",
   "outputs": [],
   "execution_count": 16
  },
  {
   "metadata": {
    "ExecuteTime": {
     "end_time": "2025-02-03T00:20:47.367480Z",
     "start_time": "2025-02-03T00:20:47.348749Z"
    }
   },
   "cell_type": "code",
   "source": [
    "dataSim = result.data()\n",
    "df = pd.DataFrame(dataSim)\n",
    "df"
   ],
   "id": "d7abf46309adb42a",
   "outputs": [
    {
     "data": {
      "text/plain": [
       "                node1               node2  similarity\n",
       "0  2-s2.0-85075203274  2-s2.0-85096234507    0.054945\n",
       "1  2-s2.0-85075203274  2-s2.0-85114651956    0.053030\n",
       "2  2-s2.0-85075203274  2-s2.0-85068836918    0.050000\n",
       "3  2-s2.0-85075203274  2-s2.0-85096435287    0.046667\n",
       "4  2-s2.0-85075203274  2-s2.0-85109310570    0.041667\n",
       "5  2-s2.0-85075203274  2-s2.0-85194862356    0.040724\n",
       "6  2-s2.0-85075203274  2-s2.0-85130294087    0.035461\n",
       "7  2-s2.0-85075203274  2-s2.0-85052641362    0.035088\n",
       "8  2-s2.0-85075203274  2-s2.0-85119413504    0.031008\n",
       "9  2-s2.0-85075203274  2-s2.0-85077504814    0.029740"
      ],
      "text/html": [
       "<div>\n",
       "<style scoped>\n",
       "    .dataframe tbody tr th:only-of-type {\n",
       "        vertical-align: middle;\n",
       "    }\n",
       "\n",
       "    .dataframe tbody tr th {\n",
       "        vertical-align: top;\n",
       "    }\n",
       "\n",
       "    .dataframe thead th {\n",
       "        text-align: right;\n",
       "    }\n",
       "</style>\n",
       "<table border=\"1\" class=\"dataframe\">\n",
       "  <thead>\n",
       "    <tr style=\"text-align: right;\">\n",
       "      <th></th>\n",
       "      <th>node1</th>\n",
       "      <th>node2</th>\n",
       "      <th>similarity</th>\n",
       "    </tr>\n",
       "  </thead>\n",
       "  <tbody>\n",
       "    <tr>\n",
       "      <th>0</th>\n",
       "      <td>2-s2.0-85075203274</td>\n",
       "      <td>2-s2.0-85096234507</td>\n",
       "      <td>0.054945</td>\n",
       "    </tr>\n",
       "    <tr>\n",
       "      <th>1</th>\n",
       "      <td>2-s2.0-85075203274</td>\n",
       "      <td>2-s2.0-85114651956</td>\n",
       "      <td>0.053030</td>\n",
       "    </tr>\n",
       "    <tr>\n",
       "      <th>2</th>\n",
       "      <td>2-s2.0-85075203274</td>\n",
       "      <td>2-s2.0-85068836918</td>\n",
       "      <td>0.050000</td>\n",
       "    </tr>\n",
       "    <tr>\n",
       "      <th>3</th>\n",
       "      <td>2-s2.0-85075203274</td>\n",
       "      <td>2-s2.0-85096435287</td>\n",
       "      <td>0.046667</td>\n",
       "    </tr>\n",
       "    <tr>\n",
       "      <th>4</th>\n",
       "      <td>2-s2.0-85075203274</td>\n",
       "      <td>2-s2.0-85109310570</td>\n",
       "      <td>0.041667</td>\n",
       "    </tr>\n",
       "    <tr>\n",
       "      <th>5</th>\n",
       "      <td>2-s2.0-85075203274</td>\n",
       "      <td>2-s2.0-85194862356</td>\n",
       "      <td>0.040724</td>\n",
       "    </tr>\n",
       "    <tr>\n",
       "      <th>6</th>\n",
       "      <td>2-s2.0-85075203274</td>\n",
       "      <td>2-s2.0-85130294087</td>\n",
       "      <td>0.035461</td>\n",
       "    </tr>\n",
       "    <tr>\n",
       "      <th>7</th>\n",
       "      <td>2-s2.0-85075203274</td>\n",
       "      <td>2-s2.0-85052641362</td>\n",
       "      <td>0.035088</td>\n",
       "    </tr>\n",
       "    <tr>\n",
       "      <th>8</th>\n",
       "      <td>2-s2.0-85075203274</td>\n",
       "      <td>2-s2.0-85119413504</td>\n",
       "      <td>0.031008</td>\n",
       "    </tr>\n",
       "    <tr>\n",
       "      <th>9</th>\n",
       "      <td>2-s2.0-85075203274</td>\n",
       "      <td>2-s2.0-85077504814</td>\n",
       "      <td>0.029740</td>\n",
       "    </tr>\n",
       "  </tbody>\n",
       "</table>\n",
       "</div>"
      ]
     },
     "execution_count": 17,
     "metadata": {},
     "output_type": "execute_result"
    }
   ],
   "execution_count": 17
  },
  {
   "metadata": {
    "ExecuteTime": {
     "end_time": "2025-02-03T00:13:12.991646Z",
     "start_time": "2025-02-03T00:13:12.947668Z"
    }
   },
   "cell_type": "code",
   "source": "",
   "id": "95032f1888e2f43a",
   "outputs": [
    {
     "data": {
      "text/plain": [
       " droppedGraph \n",
       "--------------\n",
       " paperGraph   \n",
       " authorPaper  "
      ],
      "text/html": [
       "<table><tr><th>droppedGraph</th></tr><tr><td style=\"text-align:left\">paperGraph</td></tr><tr><td style=\"text-align:left\">authorPaper</td></tr></table>"
      ]
     },
     "execution_count": 5,
     "metadata": {},
     "output_type": "execute_result"
    }
   ],
   "execution_count": 5
  },
  {
   "metadata": {
    "ExecuteTime": {
     "end_time": "2025-02-26T15:35:25.638550Z",
     "start_time": "2025-02-26T15:35:25.122194Z"
    }
   },
   "cell_type": "code",
   "source": [
    "query = '''\n",
    "MATCH (p:Paper)-[:hasPart*2]->(f:Fact)-[:hasSubject|:hasObject]->(e)\n",
    "MERGE (p)-[:RELATED_TO]->(e);\n",
    "'''\n",
    "\n",
    "result = graph.run(query)\n",
    "result"
   ],
   "id": "356f67c26b42acf0",
   "outputs": [
    {
     "data": {
      "text/plain": [
       "(No data)"
      ],
      "text/html": [
       "(No data)"
      ]
     },
     "execution_count": 2,
     "metadata": {},
     "output_type": "execute_result"
    }
   ],
   "execution_count": 2
  },
  {
   "metadata": {},
   "cell_type": "code",
   "outputs": [],
   "execution_count": null,
   "source": "",
   "id": "2971c54d6c4e9622"
  }
 ],
 "metadata": {
  "kernelspec": {
   "display_name": "Python 3",
   "language": "python",
   "name": "python3"
  },
  "language_info": {
   "codemirror_mode": {
    "name": "ipython",
    "version": 2
   },
   "file_extension": ".py",
   "mimetype": "text/x-python",
   "name": "python",
   "nbconvert_exporter": "python",
   "pygments_lexer": "ipython2",
   "version": "2.7.6"
  }
 },
 "nbformat": 4,
 "nbformat_minor": 5
}
