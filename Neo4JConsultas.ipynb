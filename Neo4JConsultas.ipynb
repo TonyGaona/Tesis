{
 "cells": [
  {
   "cell_type": "code",
   "execution_count": 1,
   "id": "3fb9c752-2e51-444d-8dd3-d83b44371da2",
   "metadata": {},
   "source": [
    "import py2neo"
   ],
   "outputs": []
  },
  {
   "cell_type": "code",
   "execution_count": 31,
   "id": "77caa5db-ef4f-41fd-9fd9-2c7a47fef94f",
   "metadata": {},
   "source": [
    "graph = py2neo.Graph(\"bolt://localhost:7687\",user = \"neo4j\" ,password=\"123456789\", name = \"tesis\") "
   ],
   "outputs": []
  },
  {
   "cell_type": "markdown",
   "id": "0405fb0f-ef24-4dd7-a61d-5f5e59585349",
   "metadata": {},
   "source": [
    "## Cypher"
   ]
  },
  {
   "cell_type": "markdown",
   "id": "47c2371c-bc8b-4ebb-ab40-ff3b56aca904",
   "metadata": {},
   "source": [
    "#### Total de Papers, Chunck y Facts, asi como su desgloce por paper"
   ]
  },
  {
   "cell_type": "code",
   "execution_count": 188,
   "id": "707ea44d-cb3e-4207-9f7e-327d922c92aa",
   "metadata": {},
   "source": [
    "query = '''\n",
    "MATCH (p:Paper)-[:hasPart]->(c:Chunk)\n",
    "WITH p, count(c) AS chunkCount, collect(c) AS chunks\n",
    "UNWIND chunks AS chunk\n",
    "MATCH (chunk)-[:hasPart]->(f:Fact)\n",
    "WITH p, chunkCount, count(DISTINCT f) AS factCount, \n",
    "     collect(chunk) AS paperChunks, collect(f) AS paperFacts\n",
    "RETURN \n",
    "    count(p) AS totalPapersWithChunks,  \n",
    "    size(apoc.coll.toSet(apoc.coll.flatten(collect(paperChunks)))) AS totalChunks,  \n",
    "    size(apoc.coll.toSet(apoc.coll.flatten(collect(paperFacts)))) AS totalFacts,\n",
    "    collect({paperId: p.identifier, chunkCount: chunkCount, factCount: factCount}) AS papersChunkFactCounts\n",
    "'''\n",
    "result = graph.run(query).data()\n",
    "\n",
    "# Procesar y formatear resultados\n",
    "for row in result:\n",
    "    print(f\"Total Papers: {row['totalPapersWithChunks']}\")\n",
    "    print(f\"Total Chunks: {row['totalChunks']}\")\n",
    "    print(f\"Total Facts: {row['totalFacts']}\")\n",
    "    print(\"Details:\")\n",
    "    for paper in row['papersChunkFactCounts']:\n",
    "        print(f\"  Paper EID: {paper['paperId']} - Chunk Count: {paper['chunkCount']} - Fact Count: {paper['factCount']}\")\n"
   ],
   "outputs": []
  },
  {
   "cell_type": "markdown",
   "id": "40bebbe0-9fdc-4201-9072-904008a6f008",
   "metadata": {},
   "source": [
    "### Papers relacionados con Algoritm"
   ]
  },
  {
   "cell_type": "code",
   "execution_count": 189,
   "id": "e0e5c933-f3b3-483f-8950-9555f0149913",
   "metadata": {},
   "source": [
    "\n",
    "query = '''\n",
    "MATCH (p:Paper)-[:hasPart]->(c:Chunk)-[:hasPart]->(f:Fact)\n",
    "MATCH (f)-[:hasSubject|hasObject]->(a:Algoritm {label: \"Artificial intelligence\"})\n",
    "RETURN DISTINCT p.identifier AS paperId\n",
    "'''\n",
    "result = graph.run(query).data()\n",
    "print(\"Papers relacionados con Algoritm (Artificial intelligence): \")\n",
    "for i, record in enumerate(result, start=1):\n",
    "    print(f\"Paper EID: {record['paperId']}\")"
   ],
   "outputs": []
  },
  {
   "cell_type": "markdown",
   "id": "fc2c7ebe-ae01-4803-a8ad-7f4c21db0019",
   "metadata": {},
   "source": [
    "### KeyWords más comunes en España"
   ]
  },
  {
   "cell_type": "code",
   "execution_count": 190,
   "id": "3a3459e1-8943-482c-bfbc-a1632a32d77c",
   "metadata": {},
   "source": [
    "\n",
    "query = '''\n",
    "MATCH (k:Key)<-[:keyWords]-(p:Paper)-[:sdPublisher]->(j:Journal)-[:location]->(c:Country{name: \"Spain\"})\n",
    "RETURN k.name AS KeyWord, COUNT(p) AS Frecuencia\n",
    "ORDER BY Frecuencia DESC\n",
    "limit 10\n",
    "'''\n",
    "result = graph.run(query).data()\n",
    "print(\"KeyWords más comunes en España: \")\n",
    "for i, record in enumerate(result, start=1):\n",
    "    print(f\"KeyWords: {record['KeyWord']} - frecuencia: {record['Frecuencia']}\")\n"
   ],
   "outputs": []
  },
  {
   "cell_type": "markdown",
   "id": "9495b335-e18c-44ff-9c04-05583fc6c607",
   "metadata": {},
   "source": [
    "### GDS"
   ]
  },
  {
   "cell_type": "code",
   "execution_count": 29,
   "id": "8eaad068-97b9-49b3-b4bd-502edf8ca8da",
   "metadata": {
    "scrolled": true
   },
   "source": [
    "\n",
    "query = '''\n",
    "CALL gds.graph.project.cypher(\n",
    "    'authorPageRankGraph',\n",
    "    'MATCH (a:Author) RETURN id(a) AS id',\n",
    "    \n",
    "    'MATCH (a1:Author)-[:author]->(p:Paper)-[:creator]->(a2:Author)\n",
    "     WHERE id(a1) < id(a2)\n",
    "     RETURN id(a1) AS source, id(a2) AS target\n",
    "    '\n",
    ")\n",
    "\n",
    "'''\n",
    "graph.run(query)\n",
    "\n",
    "query = '''\n",
    "CALL gds.graph.project(\n",
    "  'journalGraph',                     \n",
    "  ['Journal', 'Paper', 'Publisher'],  \n",
    "  {\n",
    "    sdJournal: {\n",
    "      type: 'sdPublisher',\n",
    "      orientation: 'UNDIRECTED'       \n",
    "    },\n",
    "    publisher: {\n",
    "      type: 'publisher',\n",
    "      orientation: 'UNDIRECTED'\n",
    "    }\n",
    "  }\n",
    ")\n",
    "\n",
    "'''\n",
    "graph.run(query)\n",
    "\n",
    "query = '''\n",
    "CALL gds.graph.project('paperReferences', 'Paper', 'references')\n",
    "'''\n",
    "graph.run(query)\n",
    "\n",
    "\n",
    "\n",
    "query='''\n",
    "\n",
    "\n",
    "CALL gds.graph.project.cypher(\n",
    "  'paperLabelSimilarityGraph',\n",
    "  \n",
    "  // Proyección de nodos\n",
    "  '\n",
    "  MATCH (p:Paper)\n",
    "  RETURN id(p) AS id\n",
    "  ',\n",
    "  \n",
    "  // Proyección de relaciones\n",
    "  '\n",
    "  MATCH (p:Paper)-[:hasPart]->(c:Chunk)-[:hasPart]->(f:Fact)-[e:hasSubject]->(o)\n",
    "  RETURN id(p) AS source, id(o) AS target\n",
    "  ',\n",
    "\n",
    "  \n",
    "  // Configuración\n",
    "  {\n",
    "    validateRelationships: false\n",
    "  }\n",
    ")\n",
    "\n",
    "         '''\n",
    "graph.run(query)\n"
   ],
   "outputs": []
  },
  {
   "cell_type": "code",
   "execution_count": 13,
   "id": "13fdf16c-c798-4946-b45b-9fc46cc06567",
   "metadata": {},
   "source": [
    "query = '''\n",
    "CALL gds.graph.list()\n",
    "YIELD graphName, nodeCount, relationshipCount\n",
    "RETURN graphName, nodeCount, relationshipCount\n",
    "'''\n",
    "result = graph.run(query)\n",
    "print(result.data())"
   ],
   "outputs": []
  },
  {
   "cell_type": "markdown",
   "id": "ea54898a-52de-4385-a2db-7449622bfc66",
   "metadata": {},
   "source": [
    "## pageRank Authores"
   ]
  },
  {
   "cell_type": "code",
   "execution_count": 101,
   "id": "6bda752e-93da-47b1-87f1-f36ac8246b32",
   "metadata": {},
   "source": [
    "query = '''\n",
    " CALL gds.pageRank.stream('authorPageRankGraph')\n",
    "YIELD nodeId, score\n",
    "RETURN gds.util.asNode(nodeId).name AS Author, score\n",
    "ORDER BY score DESC\n",
    "LIMIT 20\n",
    "\n",
    "'''\n",
    "result = graph.run(query)\n",
    "\n",
    "# Imprimir los datos\n",
    "for i, record in enumerate(result, start=1):\n",
    "    print(f\"Rango {i:<2} - {record['Author']:<{33}} - score {record['score']:>0.2f}\") "
   ],
   "outputs": []
  },
  {
   "cell_type": "markdown",
   "id": "0cabac4f-07bb-46d9-8ef3-fac9d13dd838",
   "metadata": {},
   "source": [
    "### Betwness"
   ]
  },
  {
   "cell_type": "code",
   "execution_count": 119,
   "id": "bb76b585-2902-4633-9cdd-5f5fc86afb8f",
   "metadata": {},
   "source": [
    "query = '''\n",
    "CALL gds.betweenness.stream('journalGraph')\n",
    "YIELD nodeId, score\n",
    "WHERE gds.util.asNode(nodeId):Journal  \n",
    "RETURN \n",
    "  gds.util.asNode(nodeId).identifier AS journalId, \n",
    "  gds.util.asNode(nodeId).title AS title, \n",
    "  score\n",
    "ORDER BY score DESC\n",
    "LIMIT 10\n",
    "\n",
    "'''\n",
    "result = graph.run(query)\n",
    "r = result\n",
    "for i, record in enumerate(result, start=1):\n",
    "    print(f\"Rango {i:<2} - Id:{record['journalId']:<10} - score: {record['score']:>0.2f}\") \n",
    "    print(f\"- Nombre: {record['title']}\\n\")"
   ],
   "outputs": []
  },
  {
   "cell_type": "markdown",
   "id": "b1c6219c-d18f-4ac6-9a98-73b2add4011e",
   "metadata": {},
   "source": [
    "## Closeness"
   ]
  },
  {
   "cell_type": "code",
   "execution_count": 197,
   "id": "1dbed273-50c1-4fe0-81cb-4dcbf203789c",
   "metadata": {
    "scrolled": true
   },
   "source": [
    "query = '''\n",
    "CALL gds.closeness.stream('paperReferences')\n",
    "YIELD nodeId, score\n",
    "RETURN gds.util.asNode(nodeId).id AS id, score\n",
    "ORDER BY score DESC\n",
    "\n",
    "'''\n",
    "graph.run(query)"
   ],
   "outputs": []
  },
  {
   "cell_type": "markdown",
   "id": "85cb4089-c485-424a-9159-6c6831c03ecc",
   "metadata": {},
   "source": [
    "### similitud"
   ]
  },
  {
   "cell_type": "code",
   "execution_count": 12,
   "id": "bf8577c7-52e1-40df-ab40-a73f6fc154e7",
   "metadata": {
    "scrolled": true
   },
   "source": [
    "query = '''\n",
    "CALL gds.nodeSimilarity.stream('similitudPaper')\n",
    "YIELD node1, node2, similarity\n",
    "WITH \n",
    "    gds.util.asNode(node1) AS Node1, \n",
    "    gds.util.asNode(node2) AS Node2, \n",
    "    similarity\n",
    "RETURN \n",
    "    Node1.identifier AS Node1, \n",
    "    Node2.identifier AS Node2, \n",
    "    similarity\n",
    "ORDER BY similarity DESC\n",
    "\n",
    "'''\n",
    "\n",
    "result = graph.run(query)\n",
    "result\n"
   ],
   "outputs": []
  },
  {
   "cell_type": "code",
   "execution_count": 235,
   "id": "c3c567e8-85e7-439d-9264-f81bdc7c396e",
   "metadata": {},
   "source": "",
   "outputs": []
  },
  {
   "cell_type": "code",
   "execution_count": 236,
   "id": "a3843b31-fb3d-41d5-a618-ce90b3e630e3",
   "metadata": {},
   "source": "",
   "outputs": []
  },
  {
   "cell_type": "markdown",
   "id": "f58d6680-3430-473b-b051-e630ce0408ba",
   "metadata": {},
   "source": [
    "### Eliminar de memoria"
   ]
  },
  {
   "cell_type": "code",
   "execution_count": 30,
   "id": "89a4fa22-4d58-44e7-bd1e-0a3998e8ca57",
   "metadata": {},
   "source": [
    "\n",
    "query = '''\n",
    "CALL gds.graph.list()\n",
    "YIELD graphName\n",
    "CALL gds.graph.drop(graphName)\n",
    "YIELD graphName AS droppedGraph\n",
    "RETURN droppedGraph\n",
    "'''\n",
    "\n",
    "result = graph.run(query)\n",
    "result\n"
   ],
   "outputs": []
  },
  {
   "cell_type": "code",
   "execution_count": 32,
   "id": "51ef39a4-4256-4300-b0f4-4b514f388f59",
   "metadata": {},
   "source": [],
   "outputs": []
  },
  {
   "cell_type": "code",
   "execution_count": 35,
   "id": "25e9033b-34de-4de1-9799-3cf53764980c",
   "metadata": {},
   "source": [
    "query = '''\n",
    "CALL gds.alpha.shortestPath.average({\n",
    "  nodeProjection: '*',\n",
    "  relationshipProjection: '*'\n",
    "})\n",
    "YIELD averageLength\n",
    "RETURN averageLength\n",
    "\n",
    "'''\n",
    "\n",
    "result = graph.run(query)\n",
    "result\n"
   ],
   "outputs": []
  },
  {
   "cell_type": "code",
   "execution_count": null,
   "id": "21ca16a8-5d94-47a2-8198-5a9709fe76af",
   "metadata": {},
   "source": [],
   "outputs": []
  }
 ],
 "metadata": {
  "kernelspec": {
   "display_name": "Python 3 (ipykernel)",
   "language": "python",
   "name": "python3"
  },
  "language_info": {
   "codemirror_mode": {
    "name": "ipython",
    "version": 3
   },
   "file_extension": ".py",
   "mimetype": "text/x-python",
   "name": "python",
   "nbconvert_exporter": "python",
   "pygments_lexer": "ipython3",
   "version": "3.8.18"
  }
 },
 "nbformat": 4,
 "nbformat_minor": 5
}
